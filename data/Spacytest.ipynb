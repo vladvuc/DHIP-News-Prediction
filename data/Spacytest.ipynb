{
 "cells": [
  {
   "cell_type": "code",
   "execution_count": 1,
   "id": "155a3114",
   "metadata": {},
   "outputs": [],
   "source": [
    "import spacy\n",
    "import pandas as pd\n",
    "import numpy as np\n",
    "import csv\n",
    "from datetime import datetime\n",
    "nlp = spacy.load(\"en_core_web_trf\")"
   ]
  },
  {
   "cell_type": "code",
   "execution_count": 2,
   "id": "73900c27",
   "metadata": {},
   "outputs": [],
   "source": [
    "dataset = pd.read_csv('upworthy-confirmatory.csv', low_memory=False, usecols=[*range(3,4),*range(5,6),*range(9,11)])"
   ]
  },
  {
   "cell_type": "code",
   "execution_count": 3,
   "id": "661a5baa",
   "metadata": {},
   "outputs": [],
   "source": [
    "dataset['impressions'] = dataset['impressions'].astype('int')\n",
    "dataset['clicks'] = dataset['clicks'].astype('int')"
   ]
  },
  {
   "cell_type": "code",
   "execution_count": 4,
   "id": "bf531bcd",
   "metadata": {},
   "outputs": [],
   "source": [
    "dataset[\"contains_entity\"] = 0"
   ]
  },
  {
   "cell_type": "code",
   "execution_count": 5,
   "id": "49d6eeae",
   "metadata": {},
   "outputs": [],
   "source": [
    "df = pd.DataFrame(columns=[\"test_id\",\"headline\",\"impressions\",\"clicks\",\"contains_entity\"])"
   ]
  },
  {
   "cell_type": "code",
   "execution_count": 8,
   "id": "7e057352",
   "metadata": {},
   "outputs": [],
   "source": [
    "for i in range(0,len(dataset)):\n",
    "    test = dataset.iloc[i][\"clickability_test_id\"]\n",
    "    headline = dataset.iloc[i][\"headline\"]\n",
    "    impressions = dataset.iloc[i][\"impressions\"]\n",
    "    clicks = dataset.iloc[i][\"clicks\"]\n",
    "    doc = nlp(headline)\n",
    "    if len(doc.ents) != 0:\n",
    "        newRow = [test,headline,impressions,clicks,1]\n",
    "    else:\n",
    "        newRow = [test,headline,impressions,clicks,0]\n",
    "    df.loc[len(df)] = newRow"
   ]
  },
  {
   "cell_type": "code",
   "execution_count": null,
   "id": "cd5734f7",
   "metadata": {},
   "outputs": [],
   "source": [
    "dataset"
   ]
  },
  {
   "cell_type": "code",
   "execution_count": null,
   "id": "7d4824ce",
   "metadata": {},
   "outputs": [],
   "source": [
    "df.to_csv('contains_entities.csv', index= False)"
   ]
  },
  {
   "cell_type": "code",
   "execution_count": null,
   "id": "2d295284",
   "metadata": {},
   "outputs": [],
   "source": [
    "df[1:20]"
   ]
  }
 ],
 "metadata": {
  "kernelspec": {
   "display_name": "Python 3 (ipykernel)",
   "language": "python",
   "name": "python3"
  },
  "language_info": {
   "codemirror_mode": {
    "name": "ipython",
    "version": 3
   },
   "file_extension": ".py",
   "mimetype": "text/x-python",
   "name": "python",
   "nbconvert_exporter": "python",
   "pygments_lexer": "ipython3",
   "version": "3.9.15"
  }
 },
 "nbformat": 4,
 "nbformat_minor": 5
}
