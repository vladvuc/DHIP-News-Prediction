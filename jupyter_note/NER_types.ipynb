{
 "cells": [
  {
   "cell_type": "code",
   "execution_count": 1,
   "id": "2444f20a",
   "metadata": {},
   "outputs": [],
   "source": [
    "import spacy\n",
    "import pandas as pd\n",
    "import numpy as np\n",
    "import csv\n",
    "from datetime import datetime"
   ]
  },
  {
   "cell_type": "code",
   "execution_count": 2,
   "id": "188fb264",
   "metadata": {},
   "outputs": [],
   "source": [
    "entities = pd.read_csv(\"indexedwtext_ner.csv\", usecols = [*range(0,5)])"
   ]
  },
  {
   "cell_type": "code",
   "execution_count": 3,
   "id": "6ded5f34",
   "metadata": {},
   "outputs": [],
   "source": [
    "entities = entities.groupby([\"Entity\",\"Label\"], as_index = False).mean()"
   ]
  },
  {
   "cell_type": "code",
   "execution_count": 4,
   "id": "656e94fc",
   "metadata": {},
   "outputs": [],
   "source": [
    "entities = entities.sort_values(by=[\"Clicks\"], ascending = False)"
   ]
  },
  {
   "cell_type": "code",
   "execution_count": 5,
   "id": "b499cf01",
   "metadata": {},
   "outputs": [],
   "source": [
    "entities.to_csv(\"GroupedwTIME.csv\", encoding = \"utf-8-sig\", index = False)"
   ]
  },
  {
   "cell_type": "code",
   "execution_count": 6,
   "id": "71bc59fb",
   "metadata": {},
   "outputs": [],
   "source": [
    "entities = entities[entities['Label'].str.contains(\"TIME\")==False]"
   ]
  },
  {
   "cell_type": "code",
   "execution_count": 7,
   "id": "980f5fe1",
   "metadata": {},
   "outputs": [],
   "source": [
    "entities.to_csv(\"GroupedwoTIME.csv\", encoding = \"utf-8-sig\", index = False)"
   ]
  }
 ],
 "metadata": {
  "kernelspec": {
   "display_name": "Python 3 (ipykernel)",
   "language": "python",
   "name": "python3"
  },
  "language_info": {
   "codemirror_mode": {
    "name": "ipython",
    "version": 3
   },
   "file_extension": ".py",
   "mimetype": "text/x-python",
   "name": "python",
   "nbconvert_exporter": "python",
   "pygments_lexer": "ipython3",
   "version": "3.9.15"
  }
 },
 "nbformat": 4,
 "nbformat_minor": 5
}
