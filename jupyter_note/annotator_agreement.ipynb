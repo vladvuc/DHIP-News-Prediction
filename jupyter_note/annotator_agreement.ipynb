{
 "cells": [
  {
   "cell_type": "code",
   "execution_count": 1,
   "id": "c27f59af",
   "metadata": {},
   "outputs": [],
   "source": [
    "from nltk.probability import FreqDist\n",
    "import csv\n",
    "import pandas as pd\n",
    "from nltk.metrics import agreement"
   ]
  },
  {
   "cell_type": "markdown",
   "id": "5babfa57",
   "metadata": {},
   "source": [
    "# Confusion Matrix"
   ]
  },
  {
   "cell_type": "code",
   "execution_count": null,
   "id": "6870e1ee",
   "metadata": {},
   "outputs": [],
   "source": [
    "class ConfusionMatrix(object):\n",
    "\n",
    "\n",
    "    def __init__(self, reference, test, sort_by_count=False):\n",
    "        \"\"\"\n",
    "        Construct a new confusion matrix from a list of reference\n",
    "        values and a corresponding list of test values.\n",
    "\n",
    "        :type reference: list\n",
    "        :param reference: An ordered list of reference values.\n",
    "        :type test: list\n",
    "        :param test: A list of values to compare against the\n",
    "            corresponding reference values.\n",
    "        :raise ValueError: If ``reference`` and ``length`` do not have\n",
    "            the same length.\n",
    "        \"\"\"\n",
    "        if len(reference) != len(test):\n",
    "            raise ValueError(\"Lists must have the same length.\")\n",
    "\n",
    "        # Get a list of all values.\n",
    "        if sort_by_count:\n",
    "            ref_fdist = FreqDist(reference)\n",
    "            test_fdist = FreqDist(test)\n",
    "\n",
    "            def key(v):\n",
    "                return -(ref_fdist[v] + test_fdist[v])\n",
    "\n",
    "            values = sorted(set(reference + test), key=key)\n",
    "        else:\n",
    "            values = sorted(set(reference + test))\n",
    "\n",
    "        # Construct a value->index dictionary\n",
    "        indices = dict((val, i) for (i, val) in enumerate(values))\n",
    "\n",
    "        # Make a confusion matrix table.\n",
    "        confusion = [[0 for val in values] for val in values]\n",
    "        max_conf = 0  # Maximum confusion\n",
    "        for w, g in zip(reference, test):\n",
    "            confusion[indices[w]][indices[g]] += 1\n",
    "            max_conf = max(max_conf, confusion[indices[w]][indices[g]])\n",
    "\n",
    "        #: A list of all values in ``reference`` or ``test``.\n",
    "        self._values = values\n",
    "        #: A dictionary mapping values in ``self._values`` to their indices.\n",
    "        self._indices = indices\n",
    "        #: The confusion matrix itself (as a list of lists of counts).\n",
    "        self._confusion = confusion\n",
    "        #: The greatest count in ``self._confusion`` (used for printing).\n",
    "        self._max_conf = max_conf\n",
    "        #: The total number of values in the confusion matrix.\n",
    "        self._total = len(reference)\n",
    "        #: The number of correct (on-diagonal) values in the matrix.\n",
    "        self._correct = sum(confusion[i][i] for i in range(len(values)))\n",
    "\n",
    "    def __getitem__(self, li_lj_tuple):\n",
    "        \"\"\"\n",
    "        :return: The number of times that value ``li`` was expected and\n",
    "        value ``lj`` was given.\n",
    "        :rtype: int\n",
    "        \"\"\"\n",
    "        (li, lj) = li_lj_tuple\n",
    "        i = self._indices[li]\n",
    "        j = self._indices[lj]\n",
    "        return self._confusion[i][j]\n",
    "\n",
    "    def __repr__(self):\n",
    "        return \"<ConfusionMatrix: %s/%s correct>\" % (self._correct, self._total)\n",
    "\n",
    "    def __str__(self):\n",
    "        return self.pretty_format()\n",
    "\n",
    "    def pretty_format(\n",
    "        self,\n",
    "        show_percents=False,\n",
    "        values_in_chart=True,\n",
    "        truncate=None,\n",
    "        sort_by_count=False,\n",
    "    ):\n",
    "        \"\"\"\n",
    "        :return: A multi-line string representation of this confusion matrix.\n",
    "        :type truncate: int\n",
    "        :param truncate: If specified, then only show the specified\n",
    "            number of values.  Any sorting (e.g., sort_by_count)\n",
    "            will be performed before truncation.\n",
    "        :param sort_by_count: If true, then sort by the count of each\n",
    "            label in the reference data.  I.e., labels that occur more\n",
    "            frequently in the reference label will be towards the left\n",
    "            edge of the matrix, and labels that occur less frequently\n",
    "            will be towards the right edge.\n",
    "\n",
    "        @todo: add marginals?\n",
    "        \"\"\"\n",
    "        confusion = self._confusion\n",
    "\n",
    "        values = self._values\n",
    "        if sort_by_count:\n",
    "            values = sorted(\n",
    "                values, key=lambda v: -sum(self._confusion[self._indices[v]])\n",
    "            )\n",
    "\n",
    "        if truncate:\n",
    "            values = values[:truncate]\n",
    "\n",
    "        if values_in_chart:\n",
    "            value_strings = [\"%s\" % val for val in values]\n",
    "        else:\n",
    "            value_strings = [str(n + 1) for n in range(len(values))]\n",
    "\n",
    "        # Construct a format string for row values\n",
    "        valuelen = max(len(val) for val in value_strings)\n",
    "        value_format = \"%\" + repr(valuelen) + \"s | \"\n",
    "        # Construct a format string for matrix entries\n",
    "        if show_percents:\n",
    "            entrylen = 6\n",
    "            entry_format = \"%5.1f%%\"\n",
    "            zerostr = \"     .\"\n",
    "        else:\n",
    "            entrylen = len(repr(self._max_conf))\n",
    "            entry_format = \"%\" + repr(entrylen) + \"d\"\n",
    "            zerostr = \" \" * (entrylen - 1) + \".\"\n",
    "\n",
    "        # Write the column values.\n",
    "        s = \"\"\n",
    "        for i in range(valuelen):\n",
    "            s += (\" \" * valuelen) + \" |\"\n",
    "            for val in value_strings:\n",
    "                if i >= valuelen - len(val):\n",
    "                    s += val[i - valuelen + len(val)].rjust(entrylen + 1)\n",
    "                else:\n",
    "                    s += \" \" * (entrylen + 1)\n",
    "            s += \" |\\n\"\n",
    "\n",
    "        # Write a dividing line\n",
    "        s += \"%s-+-%s+\\n\" % (\"-\" * valuelen, \"-\" * ((entrylen + 1) * len(values)))\n",
    "\n",
    "        # Write the entries.\n",
    "        for val, li in zip(value_strings, values):\n",
    "            i = self._indices[li]\n",
    "            s += value_format % val\n",
    "            for lj in values:\n",
    "                j = self._indices[lj]\n",
    "                if confusion[i][j] == 0:\n",
    "                    s += zerostr\n",
    "                elif show_percents:\n",
    "                    s += entry_format % (100.0 * confusion[i][j] / self._total)\n",
    "                else:\n",
    "                    s += entry_format % confusion[i][j]\n",
    "                if i == j:\n",
    "                    prevspace = s.rfind(\" \")\n",
    "                    s = s[:prevspace] + \"<\" + s[prevspace + 1 :] + \">\"\n",
    "                else:\n",
    "                    s += \" \"\n",
    "            s += \"|\\n\"\n",
    "\n",
    "        # Write a dividing line\n",
    "        s += \"%s-+-%s+\\n\" % (\"-\" * valuelen, \"-\" * ((entrylen + 1) * len(values)))\n",
    "\n",
    "        # Write a key\n",
    "        s += \"(row = \" + name_1 + \"; col = \" + name_2 + \")\" + \"\\n\"\n",
    "        if not values_in_chart:\n",
    "            s += \"Value key:\\n\"\n",
    "            for i, value in enumerate(values):\n",
    "                s += \"%6d: %s\\n\" % (i + 1, value)\n",
    "\n",
    "        return s\n",
    "\n",
    "\n",
    "    def key(self):\n",
    "        values = self._values\n",
    "        str = \"Value key:\\n\"\n",
    "        indexlen = len(repr(len(values) - 1))\n",
    "        key_format = \"  %\" + repr(indexlen) + \"d: %s\\n\"\n",
    "        for i in range(len(values)):\n",
    "            str += key_format % (i, values[i])\n",
    "\n",
    "        return str"
   ]
  },
  {
   "cell_type": "markdown",
   "id": "d1a23f17",
   "metadata": {},
   "source": [
    "## Confusion Matrix"
   ]
  },
  {
   "cell_type": "code",
   "execution_count": 2,
   "id": "66252c87",
   "metadata": {},
   "outputs": [],
   "source": [
    "df = pd.read_csv('../data/inter-annotator/annotator_agreement_all_final.csv', sep = ';')"
   ]
  },
  {
   "cell_type": "code",
   "execution_count": 3,
   "id": "325ff1cf",
   "metadata": {},
   "outputs": [
    {
     "data": {
      "text/html": [
       "<div>\n",
       "<style scoped>\n",
       "    .dataframe tbody tr th:only-of-type {\n",
       "        vertical-align: middle;\n",
       "    }\n",
       "\n",
       "    .dataframe tbody tr th {\n",
       "        vertical-align: top;\n",
       "    }\n",
       "\n",
       "    .dataframe thead th {\n",
       "        text-align: right;\n",
       "    }\n",
       "</style>\n",
       "<table border=\"1\" class=\"dataframe\">\n",
       "  <thead>\n",
       "    <tr style=\"text-align: right;\">\n",
       "      <th></th>\n",
       "      <th>Headlines</th>\n",
       "      <th>vlad_entity</th>\n",
       "      <th>vlad</th>\n",
       "      <th>shanet_entity</th>\n",
       "      <th>shanet</th>\n",
       "      <th>dhruv_entity</th>\n",
       "      <th>dhruv</th>\n",
       "      <th>spacy_entity</th>\n",
       "      <th>spacy</th>\n",
       "    </tr>\n",
       "  </thead>\n",
       "  <tbody>\n",
       "    <tr>\n",
       "      <th>0</th>\n",
       "      <td>This Land Was Made For You And Me' — Or Was It?</td>\n",
       "      <td>land</td>\n",
       "      <td>LOC</td>\n",
       "      <td>Land</td>\n",
       "      <td>LOC</td>\n",
       "      <td>Land</td>\n",
       "      <td>LOC</td>\n",
       "      <td>This Land Was Made</td>\n",
       "      <td>WORK_OF_ART</td>\n",
       "    </tr>\n",
       "    <tr>\n",
       "      <th>1</th>\n",
       "      <td>A Perspective On George Zimmerman That Every P...</td>\n",
       "      <td>George Zimmerman</td>\n",
       "      <td>PERSON</td>\n",
       "      <td>George Zimmerman</td>\n",
       "      <td>PERSON</td>\n",
       "      <td>George Zimmerman</td>\n",
       "      <td>PERSON</td>\n",
       "      <td>George Zimmerman</td>\n",
       "      <td>PERSON</td>\n",
       "    </tr>\n",
       "    <tr>\n",
       "      <th>2</th>\n",
       "      <td>A Strategy To Combat Crime That McGruff Wished...</td>\n",
       "      <td>McGruff</td>\n",
       "      <td>PERSON</td>\n",
       "      <td>McGruff</td>\n",
       "      <td>PERSON</td>\n",
       "      <td>McGruff</td>\n",
       "      <td>PERSON</td>\n",
       "      <td>McGruff</td>\n",
       "      <td>PERSON</td>\n",
       "    </tr>\n",
       "    <tr>\n",
       "      <th>3</th>\n",
       "      <td>Could You Go 100 Days Without Food? These Men ...</td>\n",
       "      <td>100 Days</td>\n",
       "      <td>DATE</td>\n",
       "      <td>Men</td>\n",
       "      <td>PERSON</td>\n",
       "      <td>100 Days</td>\n",
       "      <td>DATE</td>\n",
       "      <td>100 Days</td>\n",
       "      <td>DATE</td>\n",
       "    </tr>\n",
       "    <tr>\n",
       "      <th>4</th>\n",
       "      <td>Here’s A Map of American Exceptionalism That’s...</td>\n",
       "      <td>American Exceptionalism</td>\n",
       "      <td>NORP</td>\n",
       "      <td>American</td>\n",
       "      <td>NORP</td>\n",
       "      <td>American</td>\n",
       "      <td>NORP</td>\n",
       "      <td>American</td>\n",
       "      <td>NORP</td>\n",
       "    </tr>\n",
       "  </tbody>\n",
       "</table>\n",
       "</div>"
      ],
      "text/plain": [
       "                                           Headlines              vlad_entity  \\\n",
       "0    This Land Was Made For You And Me' — Or Was It?                     land   \n",
       "1  A Perspective On George Zimmerman That Every P...         George Zimmerman   \n",
       "2  A Strategy To Combat Crime That McGruff Wished...                  McGruff   \n",
       "3  Could You Go 100 Days Without Food? These Men ...                 100 Days   \n",
       "4  Here’s A Map of American Exceptionalism That’s...  American Exceptionalism   \n",
       "\n",
       "     vlad     shanet_entity  shanet      dhruv_entity   dhruv  \\\n",
       "0     LOC              Land     LOC              Land     LOC   \n",
       "1  PERSON  George Zimmerman  PERSON  George Zimmerman  PERSON   \n",
       "2  PERSON           McGruff  PERSON           McGruff  PERSON   \n",
       "3    DATE               Men  PERSON          100 Days    DATE   \n",
       "4    NORP          American    NORP          American    NORP   \n",
       "\n",
       "         spacy_entity        spacy  \n",
       "0  This Land Was Made  WORK_OF_ART  \n",
       "1    George Zimmerman       PERSON  \n",
       "2             McGruff       PERSON  \n",
       "3            100 Days         DATE  \n",
       "4            American         NORP  "
      ]
     },
     "execution_count": 3,
     "metadata": {},
     "output_type": "execute_result"
    }
   ],
   "source": [
    "df.head(5)"
   ]
  },
  {
   "cell_type": "code",
   "execution_count": null,
   "id": "cf6dbd0b",
   "metadata": {
    "scrolled": false
   },
   "outputs": [],
   "source": [
    "# name_1 = \"Vlad\"\n",
    "name_1 = \"Shanet\"\n",
    "# name_1 = \"Dhruv\"\n",
    "# name_2 = \"Shanet\"\n",
    "# name_2 = \"Dhruv\"\n",
    "name_2 = \"Spacy\"\n",
    "\n",
    "def demo():\n",
    "    list1=[]\n",
    "    list2=[]\n",
    "\n",
    "    with open('../data/inter-annotator/annotator_agreement_all_final.csv') as csv_file:\n",
    "        csv_reader = csv.reader(csv_file, delimiter=';')\n",
    "        line_count = 0\n",
    "\n",
    "        for row in csv_reader:\n",
    "            # VLAD\n",
    "            #list1.append(row[2])\n",
    "            # SHANET\n",
    "            #list1.append(row[4])\n",
    "            # DHRUV\n",
    "            list1.append(row[6])\n",
    "            # SPACY\n",
    "            list2.append(row[8])\n",
    "            line_count += 1\n",
    "        print(f'Processed {line_count-1} lines.')\n",
    "    a1=list1[1:]\n",
    "    a2=list2[1:]\n",
    "\n",
    "    print(name_1, len(list1[1:]))\n",
    "    print(name_2, len(list2[1:]))\n",
    "    print(\"Confusion matrix:\")\n",
    "\n",
    "    print(ConfusionMatrix(a1, a2).pretty_format(sort_by_count=True))\n",
    "\n",
    "if __name__ == \"__main__\":\n",
    "    demo()"
   ]
  },
  {
   "cell_type": "markdown",
   "id": "8b2964f5",
   "metadata": {},
   "source": [
    "## Kappa score for annotators"
   ]
  },
  {
   "cell_type": "code",
   "execution_count": null,
   "id": "583278c2",
   "metadata": {},
   "outputs": [],
   "source": [
    "df.head()"
   ]
  },
  {
   "cell_type": "code",
   "execution_count": null,
   "id": "cf78e1fa",
   "metadata": {},
   "outputs": [],
   "source": [
    "inputfile='../data/inter-annotator/annotator_agreement_all_final.csv'\n",
    "print(inputfile)\n",
    "merged_df=pd.read_csv(inputfile, delimiter=';', header = 0, index_col=0)\n",
    "merged_df.columns=[\"vlad_entity\", \"vlad\", \"shanet_entity\", \"shanet\", \"dhruv_entity\", \"dhruv\", \"spacy_entity\", \"spacy\"]\n",
    "\n",
    "print(merged_df.shape)\n",
    "\n",
    "labels_matched_df = merged_df.dropna()\n",
    "\n",
    "# Reformat the data into the form AnnotationTask\n",
    "#  expects.\n",
    "data = []\n",
    "for idx, row in labels_matched_df.iterrows():\n",
    "    data.append((\"a1\", idx, row[\"shanet\"]))\n",
    "    data.append((\"a2\", idx, row[\"vlad\"]))\n",
    "\n",
    "atask = agreement.AnnotationTask(data=data)\n",
    "\n",
    "print(\"Percentage agreement:\", atask.avg_Ao())\n",
    "print(\"Cohen's Kappa:\", atask.kappa())\n",
    "#print(\"Fleiss's Kappa:\", atask.multi_kappa())\n",
    "#print(\"Krippendorf's alpha:\", atask.alpha())\n",
    "\n",
    "# This function maps labels into a numeric space,\n",
    "# . so we can rely on the ordering of labels.\n",
    "def priority_distance(left_label, right_label):\n",
    "    mapped_labels = {\n",
    "        \"Critical\": 4,\n",
    "        \"High\": 3,\n",
    "        \"Medium\": 2,\n",
    "        \"Low\": 1,\n",
    "    }\n",
    "    left_i = mapped_labels[left_label]\n",
    "    right_i = mapped_labels[right_label]\n",
    "\n",
    "    return abs(left_i - right_i)"
   ]
  },
  {
   "cell_type": "markdown",
   "id": "9a254135",
   "metadata": {},
   "source": [
    "# Extracting disagreements\n",
    "## ANNOTATORS - SPACY"
   ]
  },
  {
   "cell_type": "code",
   "execution_count": 4,
   "id": "9e09cb5b",
   "metadata": {},
   "outputs": [
    {
     "data": {
      "text/html": [
       "<div>\n",
       "<style scoped>\n",
       "    .dataframe tbody tr th:only-of-type {\n",
       "        vertical-align: middle;\n",
       "    }\n",
       "\n",
       "    .dataframe tbody tr th {\n",
       "        vertical-align: top;\n",
       "    }\n",
       "\n",
       "    .dataframe thead th {\n",
       "        text-align: right;\n",
       "    }\n",
       "</style>\n",
       "<table border=\"1\" class=\"dataframe\">\n",
       "  <thead>\n",
       "    <tr style=\"text-align: right;\">\n",
       "      <th></th>\n",
       "      <th>Headlines</th>\n",
       "      <th>vlad_entity</th>\n",
       "      <th>vlad</th>\n",
       "      <th>shanet_entity</th>\n",
       "      <th>shanet</th>\n",
       "      <th>dhruv_entity</th>\n",
       "      <th>dhruv</th>\n",
       "      <th>spacy_entity</th>\n",
       "      <th>spacy</th>\n",
       "    </tr>\n",
       "  </thead>\n",
       "  <tbody>\n",
       "    <tr>\n",
       "      <th>0</th>\n",
       "      <td>This Land Was Made For You And Me' — Or Was It?</td>\n",
       "      <td>land</td>\n",
       "      <td>LOC</td>\n",
       "      <td>Land</td>\n",
       "      <td>LOC</td>\n",
       "      <td>Land</td>\n",
       "      <td>LOC</td>\n",
       "      <td>This Land Was Made</td>\n",
       "      <td>WORK_OF_ART</td>\n",
       "    </tr>\n",
       "    <tr>\n",
       "      <th>1</th>\n",
       "      <td>A Perspective On George Zimmerman That Every P...</td>\n",
       "      <td>George Zimmerman</td>\n",
       "      <td>PERSON</td>\n",
       "      <td>George Zimmerman</td>\n",
       "      <td>PERSON</td>\n",
       "      <td>George Zimmerman</td>\n",
       "      <td>PERSON</td>\n",
       "      <td>George Zimmerman</td>\n",
       "      <td>PERSON</td>\n",
       "    </tr>\n",
       "    <tr>\n",
       "      <th>2</th>\n",
       "      <td>A Strategy To Combat Crime That McGruff Wished...</td>\n",
       "      <td>McGruff</td>\n",
       "      <td>PERSON</td>\n",
       "      <td>McGruff</td>\n",
       "      <td>PERSON</td>\n",
       "      <td>McGruff</td>\n",
       "      <td>PERSON</td>\n",
       "      <td>McGruff</td>\n",
       "      <td>PERSON</td>\n",
       "    </tr>\n",
       "    <tr>\n",
       "      <th>3</th>\n",
       "      <td>Could You Go 100 Days Without Food? These Men ...</td>\n",
       "      <td>100 Days</td>\n",
       "      <td>DATE</td>\n",
       "      <td>Men</td>\n",
       "      <td>PERSON</td>\n",
       "      <td>100 Days</td>\n",
       "      <td>DATE</td>\n",
       "      <td>100 Days</td>\n",
       "      <td>DATE</td>\n",
       "    </tr>\n",
       "    <tr>\n",
       "      <th>4</th>\n",
       "      <td>Here’s A Map of American Exceptionalism That’s...</td>\n",
       "      <td>American Exceptionalism</td>\n",
       "      <td>NORP</td>\n",
       "      <td>American</td>\n",
       "      <td>NORP</td>\n",
       "      <td>American</td>\n",
       "      <td>NORP</td>\n",
       "      <td>American</td>\n",
       "      <td>NORP</td>\n",
       "    </tr>\n",
       "  </tbody>\n",
       "</table>\n",
       "</div>"
      ],
      "text/plain": [
       "                                           Headlines              vlad_entity  \\\n",
       "0    This Land Was Made For You And Me' — Or Was It?                     land   \n",
       "1  A Perspective On George Zimmerman That Every P...         George Zimmerman   \n",
       "2  A Strategy To Combat Crime That McGruff Wished...                  McGruff   \n",
       "3  Could You Go 100 Days Without Food? These Men ...                 100 Days   \n",
       "4  Here’s A Map of American Exceptionalism That’s...  American Exceptionalism   \n",
       "\n",
       "     vlad     shanet_entity  shanet      dhruv_entity   dhruv  \\\n",
       "0     LOC              Land     LOC              Land     LOC   \n",
       "1  PERSON  George Zimmerman  PERSON  George Zimmerman  PERSON   \n",
       "2  PERSON           McGruff  PERSON           McGruff  PERSON   \n",
       "3    DATE               Men  PERSON          100 Days    DATE   \n",
       "4    NORP          American    NORP          American    NORP   \n",
       "\n",
       "         spacy_entity        spacy  \n",
       "0  This Land Was Made  WORK_OF_ART  \n",
       "1    George Zimmerman       PERSON  \n",
       "2             McGruff       PERSON  \n",
       "3            100 Days         DATE  \n",
       "4            American         NORP  "
      ]
     },
     "execution_count": 4,
     "metadata": {},
     "output_type": "execute_result"
    }
   ],
   "source": [
    "df.head()"
   ]
  },
  {
   "cell_type": "markdown",
   "id": "31a82ba2",
   "metadata": {},
   "source": [
    "## 1 Shanet - spaCy"
   ]
  },
  {
   "cell_type": "code",
   "execution_count": 5,
   "id": "56a6cec3",
   "metadata": {},
   "outputs": [],
   "source": [
    "result = df[(df['shanet'] == 'PRODUCT') & (df['spacy'] == 'WORK_OF_ART')]"
   ]
  },
  {
   "cell_type": "code",
   "execution_count": 6,
   "id": "d942944a",
   "metadata": {},
   "outputs": [
    {
     "data": {
      "text/html": [
       "<div>\n",
       "<style scoped>\n",
       "    .dataframe tbody tr th:only-of-type {\n",
       "        vertical-align: middle;\n",
       "    }\n",
       "\n",
       "    .dataframe tbody tr th {\n",
       "        vertical-align: top;\n",
       "    }\n",
       "\n",
       "    .dataframe thead th {\n",
       "        text-align: right;\n",
       "    }\n",
       "</style>\n",
       "<table border=\"1\" class=\"dataframe\">\n",
       "  <thead>\n",
       "    <tr style=\"text-align: right;\">\n",
       "      <th></th>\n",
       "      <th>Headlines</th>\n",
       "      <th>shanet</th>\n",
       "      <th>shanet_entity</th>\n",
       "      <th>spacy</th>\n",
       "      <th>spacy_entity</th>\n",
       "    </tr>\n",
       "  </thead>\n",
       "  <tbody>\n",
       "    <tr>\n",
       "      <th>21</th>\n",
       "      <td>\"Damn It.\" -The Present. \"Sorry About That!\" -...</td>\n",
       "      <td>PRODUCT</td>\n",
       "      <td>Present</td>\n",
       "      <td>WORK_OF_ART</td>\n",
       "      <td>Sorry About That</td>\n",
       "    </tr>\n",
       "    <tr>\n",
       "      <th>23</th>\n",
       "      <td>\"Hum De Dum Dum, Singing In The Shower, Hum De...</td>\n",
       "      <td>PRODUCT</td>\n",
       "      <td>The Shower</td>\n",
       "      <td>WORK_OF_ART</td>\n",
       "      <td>Hum De Dum Dum, Singing In The Shower, Hum De ...</td>\n",
       "    </tr>\n",
       "    <tr>\n",
       "      <th>32</th>\n",
       "      <td>\"Seeing This Picture Reminds Me Of Everything ...</td>\n",
       "      <td>PRODUCT</td>\n",
       "      <td>Picture</td>\n",
       "      <td>WORK_OF_ART</td>\n",
       "      <td>Seeing This Picture Reminds</td>\n",
       "    </tr>\n",
       "    <tr>\n",
       "      <th>39</th>\n",
       "      <td>\"Unhand Him You Foul Beast!\" Is What Looking A...</td>\n",
       "      <td>PRODUCT</td>\n",
       "      <td>Cartoon</td>\n",
       "      <td>WORK_OF_ART</td>\n",
       "      <td>Unhand Him</td>\n",
       "    </tr>\n",
       "  </tbody>\n",
       "</table>\n",
       "</div>"
      ],
      "text/plain": [
       "                                            Headlines   shanet shanet_entity  \\\n",
       "21  \"Damn It.\" -The Present. \"Sorry About That!\" -...  PRODUCT       Present   \n",
       "23  \"Hum De Dum Dum, Singing In The Shower, Hum De...  PRODUCT    The Shower   \n",
       "32  \"Seeing This Picture Reminds Me Of Everything ...  PRODUCT       Picture   \n",
       "39  \"Unhand Him You Foul Beast!\" Is What Looking A...  PRODUCT       Cartoon   \n",
       "\n",
       "          spacy                                       spacy_entity  \n",
       "21  WORK_OF_ART                                   Sorry About That  \n",
       "23  WORK_OF_ART  Hum De Dum Dum, Singing In The Shower, Hum De ...  \n",
       "32  WORK_OF_ART                        Seeing This Picture Reminds  \n",
       "39  WORK_OF_ART                                         Unhand Him  "
      ]
     },
     "execution_count": 6,
     "metadata": {},
     "output_type": "execute_result"
    }
   ],
   "source": [
    "result[['Headlines', 'shanet', 'shanet_entity', 'spacy', 'spacy_entity']]"
   ]
  },
  {
   "cell_type": "code",
   "execution_count": 7,
   "id": "fd036822",
   "metadata": {},
   "outputs": [
    {
     "data": {
      "text/html": [
       "<div>\n",
       "<style scoped>\n",
       "    .dataframe tbody tr th:only-of-type {\n",
       "        vertical-align: middle;\n",
       "    }\n",
       "\n",
       "    .dataframe tbody tr th {\n",
       "        vertical-align: top;\n",
       "    }\n",
       "\n",
       "    .dataframe thead th {\n",
       "        text-align: right;\n",
       "    }\n",
       "</style>\n",
       "<table border=\"1\" class=\"dataframe\">\n",
       "  <thead>\n",
       "    <tr style=\"text-align: right;\">\n",
       "      <th></th>\n",
       "      <th>Headlines</th>\n",
       "      <th>shanet</th>\n",
       "      <th>shanet_entity</th>\n",
       "      <th>spacy</th>\n",
       "      <th>spacy_entity</th>\n",
       "    </tr>\n",
       "  </thead>\n",
       "  <tbody>\n",
       "    <tr>\n",
       "      <th>0</th>\n",
       "      <td>This Land Was Made For You And Me' — Or Was It?</td>\n",
       "      <td>LOC</td>\n",
       "      <td>Land</td>\n",
       "      <td>WORK_OF_ART</td>\n",
       "      <td>This Land Was Made</td>\n",
       "    </tr>\n",
       "    <tr>\n",
       "      <th>25</th>\n",
       "      <td>\"I'm Just A Bill\" Parody A.K.A. Schoolhouse Co...</td>\n",
       "      <td>LOC</td>\n",
       "      <td>Schoolhouse</td>\n",
       "      <td>WORK_OF_ART</td>\n",
       "      <td>I'm Just A Bill</td>\n",
       "    </tr>\n",
       "  </tbody>\n",
       "</table>\n",
       "</div>"
      ],
      "text/plain": [
       "                                            Headlines shanet shanet_entity  \\\n",
       "0     This Land Was Made For You And Me' — Or Was It?    LOC          Land   \n",
       "25  \"I'm Just A Bill\" Parody A.K.A. Schoolhouse Co...    LOC   Schoolhouse   \n",
       "\n",
       "          spacy        spacy_entity  \n",
       "0   WORK_OF_ART  This Land Was Made  \n",
       "25  WORK_OF_ART     I'm Just A Bill  "
      ]
     },
     "execution_count": 7,
     "metadata": {},
     "output_type": "execute_result"
    }
   ],
   "source": [
    "result2 = df[(df['shanet'] == 'LOC') & (df['spacy'] == 'WORK_OF_ART')]\n",
    "result2[['Headlines', 'shanet', 'shanet_entity', 'spacy', 'spacy_entity']]"
   ]
  },
  {
   "cell_type": "markdown",
   "id": "f4ebe3a4",
   "metadata": {},
   "source": [
    "## 2 Dhruv - spaCY"
   ]
  },
  {
   "cell_type": "code",
   "execution_count": 8,
   "id": "10d5dab5",
   "metadata": {},
   "outputs": [
    {
     "data": {
      "text/html": [
       "<div>\n",
       "<style scoped>\n",
       "    .dataframe tbody tr th:only-of-type {\n",
       "        vertical-align: middle;\n",
       "    }\n",
       "\n",
       "    .dataframe tbody tr th {\n",
       "        vertical-align: top;\n",
       "    }\n",
       "\n",
       "    .dataframe thead th {\n",
       "        text-align: right;\n",
       "    }\n",
       "</style>\n",
       "<table border=\"1\" class=\"dataframe\">\n",
       "  <thead>\n",
       "    <tr style=\"text-align: right;\">\n",
       "      <th></th>\n",
       "      <th>Headlines</th>\n",
       "      <th>dhruv</th>\n",
       "      <th>dhruv_entity</th>\n",
       "      <th>spacy</th>\n",
       "      <th>spacy_entity</th>\n",
       "    </tr>\n",
       "  </thead>\n",
       "  <tbody>\n",
       "    <tr>\n",
       "      <th>21</th>\n",
       "      <td>\"Damn It.\" -The Present. \"Sorry About That!\" -...</td>\n",
       "      <td>DATE</td>\n",
       "      <td>The Past</td>\n",
       "      <td>WORK_OF_ART</td>\n",
       "      <td>Sorry About That</td>\n",
       "    </tr>\n",
       "    <tr>\n",
       "      <th>40</th>\n",
       "      <td>\"Women Just Haven't Done That Much\" Could Be M...</td>\n",
       "      <td>DATE</td>\n",
       "      <td>2013</td>\n",
       "      <td>WORK_OF_ART</td>\n",
       "      <td>Women Just Haven't Done That Much</td>\n",
       "    </tr>\n",
       "  </tbody>\n",
       "</table>\n",
       "</div>"
      ],
      "text/plain": [
       "                                            Headlines dhruv dhruv_entity  \\\n",
       "21  \"Damn It.\" -The Present. \"Sorry About That!\" -...  DATE     The Past   \n",
       "40  \"Women Just Haven't Done That Much\" Could Be M...  DATE         2013   \n",
       "\n",
       "          spacy                       spacy_entity  \n",
       "21  WORK_OF_ART                   Sorry About That  \n",
       "40  WORK_OF_ART  Women Just Haven't Done That Much  "
      ]
     },
     "execution_count": 8,
     "metadata": {},
     "output_type": "execute_result"
    }
   ],
   "source": [
    "result_dhruv = df[(df['dhruv'] == 'DATE') & (df['spacy'] == 'WORK_OF_ART')]\n",
    "result_dhruv[['Headlines', 'dhruv', 'dhruv_entity', 'spacy', 'spacy_entity']]"
   ]
  },
  {
   "cell_type": "code",
   "execution_count": 9,
   "id": "4ac52b5e",
   "metadata": {},
   "outputs": [
    {
     "data": {
      "text/plain": [
       "'\"Damn It.\" -The Present. \"Sorry About That!\" -The Past.'"
      ]
     },
     "execution_count": 9,
     "metadata": {},
     "output_type": "execute_result"
    }
   ],
   "source": [
    "value = result_dhruv.Headlines\n",
    "value.iloc[0]"
   ]
  },
  {
   "cell_type": "code",
   "execution_count": 10,
   "id": "7b7614db",
   "metadata": {},
   "outputs": [
    {
     "data": {
      "text/plain": [
       "'\"Women Just Haven\\'t Done That Much\" Could Be My Least Favorite Media Moment Of 2013. What\\'s Yours?'"
      ]
     },
     "execution_count": 10,
     "metadata": {},
     "output_type": "execute_result"
    }
   ],
   "source": [
    "value.iloc[1]"
   ]
  },
  {
   "cell_type": "code",
   "execution_count": 11,
   "id": "5f5d56e3",
   "metadata": {},
   "outputs": [
    {
     "data": {
      "text/html": [
       "<div>\n",
       "<style scoped>\n",
       "    .dataframe tbody tr th:only-of-type {\n",
       "        vertical-align: middle;\n",
       "    }\n",
       "\n",
       "    .dataframe tbody tr th {\n",
       "        vertical-align: top;\n",
       "    }\n",
       "\n",
       "    .dataframe thead th {\n",
       "        text-align: right;\n",
       "    }\n",
       "</style>\n",
       "<table border=\"1\" class=\"dataframe\">\n",
       "  <thead>\n",
       "    <tr style=\"text-align: right;\">\n",
       "      <th></th>\n",
       "      <th>Headlines</th>\n",
       "      <th>dhruv</th>\n",
       "      <th>dhruv_entity</th>\n",
       "      <th>spacy</th>\n",
       "      <th>spacy_entity</th>\n",
       "    </tr>\n",
       "  </thead>\n",
       "  <tbody>\n",
       "    <tr>\n",
       "      <th>29</th>\n",
       "      <td>\"Prohibition Worked For Alcohol, It Can Work F...</td>\n",
       "      <td>NORP</td>\n",
       "      <td>Congress</td>\n",
       "      <td>ORG</td>\n",
       "      <td>Congress</td>\n",
       "    </tr>\n",
       "    <tr>\n",
       "      <th>30</th>\n",
       "      <td>\"STRAIGHT TO THE SOURCE: If You Have Questions...</td>\n",
       "      <td>NORP</td>\n",
       "      <td>Islam</td>\n",
       "      <td>ORG</td>\n",
       "      <td>Islam</td>\n",
       "    </tr>\n",
       "  </tbody>\n",
       "</table>\n",
       "</div>"
      ],
      "text/plain": [
       "                                            Headlines dhruv dhruv_entity  \\\n",
       "29  \"Prohibition Worked For Alcohol, It Can Work F...  NORP     Congress   \n",
       "30  \"STRAIGHT TO THE SOURCE: If You Have Questions...  NORP        Islam   \n",
       "\n",
       "   spacy spacy_entity  \n",
       "29   ORG     Congress  \n",
       "30   ORG        Islam  "
      ]
     },
     "execution_count": 11,
     "metadata": {},
     "output_type": "execute_result"
    }
   ],
   "source": [
    "result_dhruv2 = df[(df['dhruv'] == 'NORP') & (df['spacy'] == 'ORG')]\n",
    "result_dhruv2[['Headlines', 'dhruv', 'dhruv_entity', 'spacy', 'spacy_entity']]"
   ]
  },
  {
   "cell_type": "code",
   "execution_count": 12,
   "id": "41146eb1",
   "metadata": {},
   "outputs": [
    {
     "data": {
      "text/plain": [
       "'\"Prohibition Worked For Alcohol, It Can Work For Drugs Too!\" Congress'"
      ]
     },
     "execution_count": 12,
     "metadata": {},
     "output_type": "execute_result"
    }
   ],
   "source": [
    "value = result_dhruv2.Headlines\n",
    "value.iloc[0]"
   ]
  },
  {
   "cell_type": "code",
   "execution_count": 13,
   "id": "b88a0e00",
   "metadata": {},
   "outputs": [
    {
     "data": {
      "text/plain": [
       "'\"STRAIGHT TO THE SOURCE: If You Have Questions About Islam, Maybe Ask A Muslim?'"
      ]
     },
     "execution_count": 13,
     "metadata": {},
     "output_type": "execute_result"
    }
   ],
   "source": [
    "value.iloc[1]"
   ]
  },
  {
   "cell_type": "markdown",
   "id": "6430c7cd",
   "metadata": {},
   "source": [
    "## 3 Vlad - spaCY"
   ]
  },
  {
   "cell_type": "code",
   "execution_count": 14,
   "id": "28f71729",
   "metadata": {},
   "outputs": [
    {
     "data": {
      "text/html": [
       "<div>\n",
       "<style scoped>\n",
       "    .dataframe tbody tr th:only-of-type {\n",
       "        vertical-align: middle;\n",
       "    }\n",
       "\n",
       "    .dataframe tbody tr th {\n",
       "        vertical-align: top;\n",
       "    }\n",
       "\n",
       "    .dataframe thead th {\n",
       "        text-align: right;\n",
       "    }\n",
       "</style>\n",
       "<table border=\"1\" class=\"dataframe\">\n",
       "  <thead>\n",
       "    <tr style=\"text-align: right;\">\n",
       "      <th></th>\n",
       "      <th>Headlines</th>\n",
       "      <th>vlad</th>\n",
       "      <th>vlad_entity</th>\n",
       "      <th>spacy</th>\n",
       "      <th>spacy_entity</th>\n",
       "    </tr>\n",
       "  </thead>\n",
       "  <tbody>\n",
       "    <tr>\n",
       "      <th>38</th>\n",
       "      <td>\"Uncle Johnny Stews Good Time Syria Jamboree\" ...</td>\n",
       "      <td>PERSON</td>\n",
       "      <td>Uncle Johnny</td>\n",
       "      <td>WORK_OF_ART</td>\n",
       "      <td>Uncle Johnny Stews Good Time Syria Jamboree</td>\n",
       "    </tr>\n",
       "    <tr>\n",
       "      <th>44</th>\n",
       "      <td>\"You throw like a girl!\" MythBusters puts the ...</td>\n",
       "      <td>PERSON</td>\n",
       "      <td>Mythin Busters</td>\n",
       "      <td>WORK_OF_ART</td>\n",
       "      <td>MythBusters</td>\n",
       "    </tr>\n",
       "    <tr>\n",
       "      <th>46</th>\n",
       "      <td>#Brozac: The Solution For When The Media Stops...</td>\n",
       "      <td>PERSON</td>\n",
       "      <td>Brozac</td>\n",
       "      <td>WORK_OF_ART</td>\n",
       "      <td>Brozac</td>\n",
       "    </tr>\n",
       "  </tbody>\n",
       "</table>\n",
       "</div>"
      ],
      "text/plain": [
       "                                            Headlines    vlad     vlad_entity  \\\n",
       "38  \"Uncle Johnny Stews Good Time Syria Jamboree\" ...  PERSON    Uncle Johnny   \n",
       "44  \"You throw like a girl!\" MythBusters puts the ...  PERSON  Mythin Busters   \n",
       "46  #Brozac: The Solution For When The Media Stops...  PERSON          Brozac   \n",
       "\n",
       "          spacy                                 spacy_entity  \n",
       "38  WORK_OF_ART  Uncle Johnny Stews Good Time Syria Jamboree  \n",
       "44  WORK_OF_ART                                  MythBusters  \n",
       "46  WORK_OF_ART                                       Brozac  "
      ]
     },
     "execution_count": 14,
     "metadata": {},
     "output_type": "execute_result"
    }
   ],
   "source": [
    "result_vlad = df[(df['vlad'] == 'PERSON') & (df['spacy'] == \"WORK_OF_ART\")]\n",
    "result_vlad[['Headlines', 'vlad', 'vlad_entity', 'spacy', 'spacy_entity']]"
   ]
  },
  {
   "cell_type": "code",
   "execution_count": 15,
   "id": "48e03574",
   "metadata": {},
   "outputs": [
    {
     "data": {
      "text/plain": [
       "'\"Uncle Johnny Stews Good Time Syria Jamboree\" Plays The Right Tune About Our Involvement'"
      ]
     },
     "execution_count": 15,
     "metadata": {},
     "output_type": "execute_result"
    }
   ],
   "source": [
    "value = result_vlad.Headlines\n",
    "value.iloc[0]"
   ]
  },
  {
   "cell_type": "code",
   "execution_count": 16,
   "id": "b492ad34",
   "metadata": {},
   "outputs": [
    {
     "data": {
      "text/plain": [
       "'\"You throw like a girl!\" MythBusters puts the classic insult to the test.'"
      ]
     },
     "execution_count": 16,
     "metadata": {},
     "output_type": "execute_result"
    }
   ],
   "source": [
    "value.iloc[1]"
   ]
  },
  {
   "cell_type": "code",
   "execution_count": 17,
   "id": "a770c48a",
   "metadata": {},
   "outputs": [
    {
     "data": {
      "text/plain": [
       "'#Brozac: The Solution For When The Media Stops Catering To You. The Struggle Is Real.'"
      ]
     },
     "execution_count": 17,
     "metadata": {},
     "output_type": "execute_result"
    }
   ],
   "source": [
    "value.iloc[2]"
   ]
  },
  {
   "cell_type": "code",
   "execution_count": 18,
   "id": "50cff058",
   "metadata": {},
   "outputs": [
    {
     "data": {
      "text/html": [
       "<div>\n",
       "<style scoped>\n",
       "    .dataframe tbody tr th:only-of-type {\n",
       "        vertical-align: middle;\n",
       "    }\n",
       "\n",
       "    .dataframe tbody tr th {\n",
       "        vertical-align: top;\n",
       "    }\n",
       "\n",
       "    .dataframe thead th {\n",
       "        text-align: right;\n",
       "    }\n",
       "</style>\n",
       "<table border=\"1\" class=\"dataframe\">\n",
       "  <thead>\n",
       "    <tr style=\"text-align: right;\">\n",
       "      <th></th>\n",
       "      <th>Headlines</th>\n",
       "      <th>vlad</th>\n",
       "      <th>vlad_entity</th>\n",
       "      <th>spacy</th>\n",
       "      <th>spacy_entity</th>\n",
       "    </tr>\n",
       "  </thead>\n",
       "  <tbody>\n",
       "    <tr>\n",
       "      <th>0</th>\n",
       "      <td>This Land Was Made For You And Me' — Or Was It?</td>\n",
       "      <td>LOC</td>\n",
       "      <td>land</td>\n",
       "      <td>WORK_OF_ART</td>\n",
       "      <td>This Land Was Made</td>\n",
       "    </tr>\n",
       "    <tr>\n",
       "      <th>23</th>\n",
       "      <td>\"Hum De Dum Dum, Singing In The Shower, Hum De...</td>\n",
       "      <td>LOC</td>\n",
       "      <td>the shower</td>\n",
       "      <td>WORK_OF_ART</td>\n",
       "      <td>Hum De Dum Dum, Singing In The Shower, Hum De ...</td>\n",
       "    </tr>\n",
       "  </tbody>\n",
       "</table>\n",
       "</div>"
      ],
      "text/plain": [
       "                                            Headlines vlad vlad_entity  \\\n",
       "0     This Land Was Made For You And Me' — Or Was It?  LOC        land   \n",
       "23  \"Hum De Dum Dum, Singing In The Shower, Hum De...  LOC  the shower   \n",
       "\n",
       "          spacy                                       spacy_entity  \n",
       "0   WORK_OF_ART                                 This Land Was Made  \n",
       "23  WORK_OF_ART  Hum De Dum Dum, Singing In The Shower, Hum De ...  "
      ]
     },
     "execution_count": 18,
     "metadata": {},
     "output_type": "execute_result"
    }
   ],
   "source": [
    "result_vlad2 = df[(df['vlad'] == 'LOC') & (df['spacy'] == \"WORK_OF_ART\")]\n",
    "result_vlad2[['Headlines', 'vlad', 'vlad_entity', 'spacy', 'spacy_entity']]"
   ]
  },
  {
   "cell_type": "code",
   "execution_count": 19,
   "id": "0fd61f4c",
   "metadata": {},
   "outputs": [
    {
     "data": {
      "text/plain": [
       "\"This Land Was Made For You And Me' — Or Was It?\""
      ]
     },
     "execution_count": 19,
     "metadata": {},
     "output_type": "execute_result"
    }
   ],
   "source": [
    "value = result_vlad2.Headlines\n",
    "value.iloc[0]"
   ]
  },
  {
   "cell_type": "code",
   "execution_count": 20,
   "id": "80401f11",
   "metadata": {},
   "outputs": [
    {
     "data": {
      "text/plain": [
       "'\"Hum De Dum Dum, Singing In The Shower, Hum De Dum Du...oh, Oh NO! NOOO!... Oh, How Considerate!\"'"
      ]
     },
     "execution_count": 20,
     "metadata": {},
     "output_type": "execute_result"
    }
   ],
   "source": [
    "value.iloc[1]"
   ]
  },
  {
   "cell_type": "markdown",
   "id": "29db0b32",
   "metadata": {},
   "source": [
    "## ANNOTATOR - ANNOTATOR"
   ]
  },
  {
   "cell_type": "markdown",
   "id": "e245759c",
   "metadata": {},
   "source": [
    "## Shanet - Vlad"
   ]
  },
  {
   "cell_type": "code",
   "execution_count": 21,
   "id": "c87b810d",
   "metadata": {},
   "outputs": [
    {
     "data": {
      "text/html": [
       "<div>\n",
       "<style scoped>\n",
       "    .dataframe tbody tr th:only-of-type {\n",
       "        vertical-align: middle;\n",
       "    }\n",
       "\n",
       "    .dataframe tbody tr th {\n",
       "        vertical-align: top;\n",
       "    }\n",
       "\n",
       "    .dataframe thead th {\n",
       "        text-align: right;\n",
       "    }\n",
       "</style>\n",
       "<table border=\"1\" class=\"dataframe\">\n",
       "  <thead>\n",
       "    <tr style=\"text-align: right;\">\n",
       "      <th></th>\n",
       "      <th>Headlines</th>\n",
       "      <th>shanet</th>\n",
       "      <th>shanet_entity</th>\n",
       "      <th>vlad</th>\n",
       "      <th>vlad_entity</th>\n",
       "    </tr>\n",
       "  </thead>\n",
       "  <tbody>\n",
       "    <tr>\n",
       "      <th>44</th>\n",
       "      <td>\"You throw like a girl!\" MythBusters puts the ...</td>\n",
       "      <td>ORG</td>\n",
       "      <td>MythBustera</td>\n",
       "      <td>PERSON</td>\n",
       "      <td>Mythin Busters</td>\n",
       "    </tr>\n",
       "    <tr>\n",
       "      <th>46</th>\n",
       "      <td>#Brozac: The Solution For When The Media Stops...</td>\n",
       "      <td>ORG</td>\n",
       "      <td>Brozac</td>\n",
       "      <td>PERSON</td>\n",
       "      <td>Brozac</td>\n",
       "    </tr>\n",
       "  </tbody>\n",
       "</table>\n",
       "</div>"
      ],
      "text/plain": [
       "                                            Headlines shanet shanet_entity  \\\n",
       "44  \"You throw like a girl!\" MythBusters puts the ...    ORG   MythBustera   \n",
       "46  #Brozac: The Solution For When The Media Stops...    ORG        Brozac   \n",
       "\n",
       "      vlad     vlad_entity  \n",
       "44  PERSON  Mythin Busters  \n",
       "46  PERSON          Brozac  "
      ]
     },
     "execution_count": 21,
     "metadata": {},
     "output_type": "execute_result"
    }
   ],
   "source": [
    "shanet_vlad = df[(df['shanet'] == 'ORG') & (df['vlad'] == \"PERSON\")]\n",
    "shanet_vlad2 = df[(df['shanet'] == 'PERSON') & (df['vlad'] == \"WORK_OF_ART\")]\n",
    "shanet_vlad[['Headlines', 'shanet', 'shanet_entity', 'vlad', 'vlad_entity']]"
   ]
  },
  {
   "cell_type": "code",
   "execution_count": 22,
   "id": "47fe9b53",
   "metadata": {},
   "outputs": [
    {
     "data": {
      "text/html": [
       "<div>\n",
       "<style scoped>\n",
       "    .dataframe tbody tr th:only-of-type {\n",
       "        vertical-align: middle;\n",
       "    }\n",
       "\n",
       "    .dataframe tbody tr th {\n",
       "        vertical-align: top;\n",
       "    }\n",
       "\n",
       "    .dataframe thead th {\n",
       "        text-align: right;\n",
       "    }\n",
       "</style>\n",
       "<table border=\"1\" class=\"dataframe\">\n",
       "  <thead>\n",
       "    <tr style=\"text-align: right;\">\n",
       "      <th></th>\n",
       "      <th>Headlines</th>\n",
       "      <th>shanet</th>\n",
       "      <th>shanet_entity</th>\n",
       "      <th>vlad</th>\n",
       "      <th>vlad_entity</th>\n",
       "    </tr>\n",
       "  </thead>\n",
       "  <tbody>\n",
       "    <tr>\n",
       "      <th>40</th>\n",
       "      <td>\"Women Just Haven't Done That Much\" Could Be M...</td>\n",
       "      <td>PERSON</td>\n",
       "      <td>Women</td>\n",
       "      <td>WORK_OF_ART</td>\n",
       "      <td>Woman just haven't done much</td>\n",
       "    </tr>\n",
       "  </tbody>\n",
       "</table>\n",
       "</div>"
      ],
      "text/plain": [
       "                                            Headlines  shanet shanet_entity  \\\n",
       "40  \"Women Just Haven't Done That Much\" Could Be M...  PERSON         Women   \n",
       "\n",
       "           vlad                   vlad_entity  \n",
       "40  WORK_OF_ART  Woman just haven't done much  "
      ]
     },
     "execution_count": 22,
     "metadata": {},
     "output_type": "execute_result"
    }
   ],
   "source": [
    "shanet_vlad2[['Headlines', 'shanet', 'shanet_entity', 'vlad', 'vlad_entity']]"
   ]
  },
  {
   "cell_type": "code",
   "execution_count": 23,
   "id": "0f586263",
   "metadata": {
    "scrolled": true
   },
   "outputs": [
    {
     "name": "stdout",
     "output_type": "stream",
     "text": [
      "1 -  \"You throw like a girl!\" MythBusters puts the classic insult to the test.\n",
      "1 -  #Brozac: The Solution For When The Media Stops Catering To You. The Struggle Is Real.\n",
      "2 -  \"Women Just Haven't Done That Much\" Could Be My Least Favorite Media Moment Of 2013. What's Yours?\n"
     ]
    }
   ],
   "source": [
    "for index, row in shanet_vlad.iterrows():\n",
    "    print('1 - ', row['Headlines'])\n",
    "    \n",
    "value = shanet_vlad2.Headlines\n",
    "print('2 - ', value.iloc[0])"
   ]
  },
  {
   "cell_type": "markdown",
   "id": "9f7d28fd",
   "metadata": {},
   "source": [
    "## Vlad - Dhruv"
   ]
  },
  {
   "cell_type": "code",
   "execution_count": 24,
   "id": "ad1d4585",
   "metadata": {},
   "outputs": [
    {
     "data": {
      "text/html": [
       "<div>\n",
       "<style scoped>\n",
       "    .dataframe tbody tr th:only-of-type {\n",
       "        vertical-align: middle;\n",
       "    }\n",
       "\n",
       "    .dataframe tbody tr th {\n",
       "        vertical-align: top;\n",
       "    }\n",
       "\n",
       "    .dataframe thead th {\n",
       "        text-align: right;\n",
       "    }\n",
       "</style>\n",
       "<table border=\"1\" class=\"dataframe\">\n",
       "  <thead>\n",
       "    <tr style=\"text-align: right;\">\n",
       "      <th></th>\n",
       "      <th>Headlines</th>\n",
       "      <th>vlad</th>\n",
       "      <th>vlad_entity</th>\n",
       "      <th>dhruv</th>\n",
       "      <th>dhruv_entity</th>\n",
       "    </tr>\n",
       "  </thead>\n",
       "  <tbody>\n",
       "    <tr>\n",
       "      <th>16</th>\n",
       "      <td>\"A major American theater has cast a black wom...</td>\n",
       "      <td>PERSON</td>\n",
       "      <td>Hamlet</td>\n",
       "      <td>NORP</td>\n",
       "      <td>American</td>\n",
       "    </tr>\n",
       "    <tr>\n",
       "      <th>30</th>\n",
       "      <td>\"STRAIGHT TO THE SOURCE: If You Have Questions...</td>\n",
       "      <td>PERSON</td>\n",
       "      <td>Muslim</td>\n",
       "      <td>NORP</td>\n",
       "      <td>Islam</td>\n",
       "    </tr>\n",
       "  </tbody>\n",
       "</table>\n",
       "</div>"
      ],
      "text/plain": [
       "                                            Headlines    vlad vlad_entity  \\\n",
       "16  \"A major American theater has cast a black wom...  PERSON      Hamlet   \n",
       "30  \"STRAIGHT TO THE SOURCE: If You Have Questions...  PERSON      Muslim   \n",
       "\n",
       "   dhruv dhruv_entity  \n",
       "16  NORP     American  \n",
       "30  NORP        Islam  "
      ]
     },
     "execution_count": 24,
     "metadata": {},
     "output_type": "execute_result"
    }
   ],
   "source": [
    "vlad_dhruv = df[(df['vlad'] == 'PERSON') & (df['dhruv'] == \"NORP\")]\n",
    "vlad_dhruv2 = df[(df['vlad'] == 'PERSON') & (df['dhruv'] == \"ORG\")]\n",
    "vlad_dhruv[['Headlines', 'vlad', 'vlad_entity', 'dhruv', 'dhruv_entity']]"
   ]
  },
  {
   "cell_type": "code",
   "execution_count": 26,
   "id": "00362218",
   "metadata": {},
   "outputs": [
    {
     "name": "stdout",
     "output_type": "stream",
     "text": [
      "1 -  The President Of Brazil Is Going The George Bush Route For This Year's World Cup.\n",
      "1 -  #Brozac: The Solution For When The Media Stops Catering To You. The Struggle Is Real.\n"
     ]
    }
   ],
   "source": [
    "for index, row in vlad_dhruv2.iterrows():\n",
    "    print('1 - ', row['Headlines'])"
   ]
  },
  {
   "cell_type": "code",
   "execution_count": 27,
   "id": "06ffda8e",
   "metadata": {},
   "outputs": [
    {
     "data": {
      "text/html": [
       "<div>\n",
       "<style scoped>\n",
       "    .dataframe tbody tr th:only-of-type {\n",
       "        vertical-align: middle;\n",
       "    }\n",
       "\n",
       "    .dataframe tbody tr th {\n",
       "        vertical-align: top;\n",
       "    }\n",
       "\n",
       "    .dataframe thead th {\n",
       "        text-align: right;\n",
       "    }\n",
       "</style>\n",
       "<table border=\"1\" class=\"dataframe\">\n",
       "  <thead>\n",
       "    <tr style=\"text-align: right;\">\n",
       "      <th></th>\n",
       "      <th>Headlines</th>\n",
       "      <th>vlad</th>\n",
       "      <th>vlad_entity</th>\n",
       "      <th>dhruv</th>\n",
       "      <th>dhruv_entity</th>\n",
       "    </tr>\n",
       "  </thead>\n",
       "  <tbody>\n",
       "    <tr>\n",
       "      <th>8</th>\n",
       "      <td>The President Of Brazil Is Going The George Bu...</td>\n",
       "      <td>PERSON</td>\n",
       "      <td>the president of Brazil</td>\n",
       "      <td>ORG</td>\n",
       "      <td>President</td>\n",
       "    </tr>\n",
       "    <tr>\n",
       "      <th>46</th>\n",
       "      <td>#Brozac: The Solution For When The Media Stops...</td>\n",
       "      <td>PERSON</td>\n",
       "      <td>Brozac</td>\n",
       "      <td>ORG</td>\n",
       "      <td>The Media</td>\n",
       "    </tr>\n",
       "  </tbody>\n",
       "</table>\n",
       "</div>"
      ],
      "text/plain": [
       "                                            Headlines    vlad  \\\n",
       "8   The President Of Brazil Is Going The George Bu...  PERSON   \n",
       "46  #Brozac: The Solution For When The Media Stops...  PERSON   \n",
       "\n",
       "                vlad_entity dhruv dhruv_entity  \n",
       "8   the president of Brazil   ORG    President  \n",
       "46                   Brozac   ORG    The Media  "
      ]
     },
     "execution_count": 27,
     "metadata": {},
     "output_type": "execute_result"
    }
   ],
   "source": [
    "vlad_dhruv2[['Headlines', 'vlad', 'vlad_entity', 'dhruv', 'dhruv_entity']]"
   ]
  },
  {
   "cell_type": "markdown",
   "id": "0b251282",
   "metadata": {},
   "source": [
    "## Dhruv - Shanet"
   ]
  },
  {
   "cell_type": "code",
   "execution_count": 28,
   "id": "58b43c53",
   "metadata": {},
   "outputs": [
    {
     "data": {
      "text/html": [
       "<div>\n",
       "<style scoped>\n",
       "    .dataframe tbody tr th:only-of-type {\n",
       "        vertical-align: middle;\n",
       "    }\n",
       "\n",
       "    .dataframe tbody tr th {\n",
       "        vertical-align: top;\n",
       "    }\n",
       "\n",
       "    .dataframe thead th {\n",
       "        text-align: right;\n",
       "    }\n",
       "</style>\n",
       "<table border=\"1\" class=\"dataframe\">\n",
       "  <thead>\n",
       "    <tr style=\"text-align: right;\">\n",
       "      <th></th>\n",
       "      <th>Headlines</th>\n",
       "      <th>dhruv</th>\n",
       "      <th>dhruv_entity</th>\n",
       "      <th>shanet</th>\n",
       "      <th>shanet_entity</th>\n",
       "    </tr>\n",
       "  </thead>\n",
       "  <tbody>\n",
       "    <tr>\n",
       "      <th>26</th>\n",
       "      <td>\"I've Got Nothing To Hide\" Is The Wrong Reacti...</td>\n",
       "      <td>WORK_OF_ART</td>\n",
       "      <td>I've Got Nothing To Hide</td>\n",
       "      <td>ORG</td>\n",
       "      <td>NSA</td>\n",
       "    </tr>\n",
       "    <tr>\n",
       "      <th>44</th>\n",
       "      <td>\"You throw like a girl!\" MythBusters puts the ...</td>\n",
       "      <td>WORK_OF_ART</td>\n",
       "      <td>MythBusters</td>\n",
       "      <td>ORG</td>\n",
       "      <td>MythBustera</td>\n",
       "    </tr>\n",
       "  </tbody>\n",
       "</table>\n",
       "</div>"
      ],
      "text/plain": [
       "                                            Headlines        dhruv  \\\n",
       "26  \"I've Got Nothing To Hide\" Is The Wrong Reacti...  WORK_OF_ART   \n",
       "44  \"You throw like a girl!\" MythBusters puts the ...  WORK_OF_ART   \n",
       "\n",
       "                dhruv_entity shanet shanet_entity  \n",
       "26  I've Got Nothing To Hide    ORG           NSA  \n",
       "44               MythBusters    ORG   MythBustera  "
      ]
     },
     "execution_count": 28,
     "metadata": {},
     "output_type": "execute_result"
    }
   ],
   "source": [
    "dhruv_shanet = df[(df['dhruv'] == 'WORK_OF_ART') & (df['shanet'] == \"ORG\")]\n",
    "dhruv_shanet2 = df[(df['dhruv'] == 'WORK_OF_ART') & (df['shanet'] == \"PRODUCT\")]\n",
    "dhruv_shanet[['Headlines', 'dhruv', 'dhruv_entity', 'shanet', 'shanet_entity']]"
   ]
  },
  {
   "cell_type": "code",
   "execution_count": 32,
   "id": "6e61ff5b",
   "metadata": {},
   "outputs": [
    {
     "name": "stdout",
     "output_type": "stream",
     "text": [
      "1 -  \"I've Got Nothing To Hide\" Is The Wrong Reaction To Have To The NSA Scandal. Here's Why.\n",
      "1 -  \"You throw like a girl!\" MythBusters puts the classic insult to the test.\n"
     ]
    }
   ],
   "source": [
    "for index, row in dhruv_shanet.iterrows():\n",
    "    print('1 - ', row['Headlines'])"
   ]
  },
  {
   "cell_type": "code",
   "execution_count": 29,
   "id": "7044ee3f",
   "metadata": {},
   "outputs": [
    {
     "data": {
      "text/html": [
       "<div>\n",
       "<style scoped>\n",
       "    .dataframe tbody tr th:only-of-type {\n",
       "        vertical-align: middle;\n",
       "    }\n",
       "\n",
       "    .dataframe tbody tr th {\n",
       "        vertical-align: top;\n",
       "    }\n",
       "\n",
       "    .dataframe thead th {\n",
       "        text-align: right;\n",
       "    }\n",
       "</style>\n",
       "<table border=\"1\" class=\"dataframe\">\n",
       "  <thead>\n",
       "    <tr style=\"text-align: right;\">\n",
       "      <th></th>\n",
       "      <th>Headlines</th>\n",
       "      <th>dhruv</th>\n",
       "      <th>dhruv_entity</th>\n",
       "      <th>shanet</th>\n",
       "      <th>shanet_entity</th>\n",
       "    </tr>\n",
       "  </thead>\n",
       "  <tbody>\n",
       "    <tr>\n",
       "      <th>23</th>\n",
       "      <td>\"Hum De Dum Dum, Singing In The Shower, Hum De...</td>\n",
       "      <td>WORK_OF_ART</td>\n",
       "      <td>Singing In The Shower</td>\n",
       "      <td>PRODUCT</td>\n",
       "      <td>The Shower</td>\n",
       "    </tr>\n",
       "    <tr>\n",
       "      <th>32</th>\n",
       "      <td>\"Seeing This Picture Reminds Me Of Everything ...</td>\n",
       "      <td>WORK_OF_ART</td>\n",
       "      <td>This Picture</td>\n",
       "      <td>PRODUCT</td>\n",
       "      <td>Picture</td>\n",
       "    </tr>\n",
       "  </tbody>\n",
       "</table>\n",
       "</div>"
      ],
      "text/plain": [
       "                                            Headlines        dhruv  \\\n",
       "23  \"Hum De Dum Dum, Singing In The Shower, Hum De...  WORK_OF_ART   \n",
       "32  \"Seeing This Picture Reminds Me Of Everything ...  WORK_OF_ART   \n",
       "\n",
       "             dhruv_entity   shanet shanet_entity  \n",
       "23  Singing In The Shower  PRODUCT    The Shower  \n",
       "32           This Picture  PRODUCT       Picture  "
      ]
     },
     "execution_count": 29,
     "metadata": {},
     "output_type": "execute_result"
    }
   ],
   "source": [
    "dhruv_shanet2[['Headlines', 'dhruv', 'dhruv_entity', 'shanet', 'shanet_entity']]"
   ]
  },
  {
   "cell_type": "code",
   "execution_count": 31,
   "id": "93ae5a4a",
   "metadata": {},
   "outputs": [
    {
     "name": "stdout",
     "output_type": "stream",
     "text": [
      "1 -  \"Hum De Dum Dum, Singing In The Shower, Hum De Dum Du...oh, Oh NO! NOOO!... Oh, How Considerate!\"\n",
      "1 -  \"Seeing This Picture Reminds Me Of Everything I Went Through\"\n"
     ]
    }
   ],
   "source": [
    "for index, row in dhruv_shanet2.iterrows():\n",
    "    print('1 - ', row['Headlines'])"
   ]
  },
  {
   "cell_type": "code",
   "execution_count": null,
   "id": "b0e0ffd4",
   "metadata": {},
   "outputs": [],
   "source": []
  }
 ],
 "metadata": {
  "kernelspec": {
   "display_name": "Python 3 (ipykernel)",
   "language": "python",
   "name": "python3"
  },
  "language_info": {
   "codemirror_mode": {
    "name": "ipython",
    "version": 3
   },
   "file_extension": ".py",
   "mimetype": "text/x-python",
   "name": "python",
   "nbconvert_exporter": "python",
   "pygments_lexer": "ipython3",
   "version": "3.10.2"
  }
 },
 "nbformat": 4,
 "nbformat_minor": 5
}
