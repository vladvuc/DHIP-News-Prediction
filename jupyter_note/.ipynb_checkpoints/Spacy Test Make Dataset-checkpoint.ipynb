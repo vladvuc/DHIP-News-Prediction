{
 "cells": [
  {
   "cell_type": "code",
   "execution_count": 1,
   "id": "155a3114",
   "metadata": {},
   "outputs": [],
   "source": [
    "import spacy\n",
    "import pandas as pd\n",
    "import numpy as np\n",
    "import csv\n",
    "from spacy import displacy\n",
    "nlp = spacy.load(\"en_core_web_sm\")\n",
    "\n",
    "dataset = pd.read_csv('../data/upworthy-confirmatory.csv', low_memory=False, usecols=[*range(5,6),*range(9,11)])"
   ]
  },
  {
   "cell_type": "code",
   "execution_count": 2,
   "id": "661a5baa",
   "metadata": {},
   "outputs": [],
   "source": [
    "dataset = dataset.groupby('headline').mean().reset_index()\n",
    "dataset['impressions'] = dataset['impressions'].astype('int')\n",
    "dataset['clicks'] = dataset['clicks'].astype('int')"
   ]
  },
  {
   "cell_type": "code",
   "execution_count": 3,
   "id": "6d38e7ab",
   "metadata": {},
   "outputs": [],
   "source": [
    "df = pd.DataFrame(columns=['Entity','Label','Impressions','Clicks'])"
   ]
  },
  {
   "cell_type": "code",
   "execution_count": null,
   "id": "7e057352",
   "metadata": {},
   "outputs": [],
   "source": [
    "for i in range(0, len(dataset)):\n",
    "    text = dataset.iloc[i][0]\n",
    "    impressions = dataset.iloc[i][1]\n",
    "    clicks = dataset.iloc[i][2]\n",
    "    doc = nlp(text)\n",
    "    for ent in doc.ents:\n",
    "        newRow = [ent.text, ent.label_, impressions, clicks]\n",
    "        df.loc[len(df)] = newRow"
   ]
  },
  {
   "cell_type": "code",
   "execution_count": null,
   "id": "5bb682b8",
   "metadata": {},
   "outputs": [],
   "source": [
    "df.sort_values(by=[\"Impressions\"], ascending=False)"
   ]
  },
  {
   "cell_type": "code",
   "execution_count": null,
   "id": "47fca541",
   "metadata": {},
   "outputs": [],
   "source": [
    "df.head()"
   ]
  }
 ],
 "metadata": {
  "kernelspec": {
   "display_name": "Python 3 (ipykernel)",
   "language": "python",
   "name": "python3"
  },
  "language_info": {
   "codemirror_mode": {
    "name": "ipython",
    "version": 3
   },
   "file_extension": ".py",
   "mimetype": "text/x-python",
   "name": "python",
   "nbconvert_exporter": "python",
   "pygments_lexer": "ipython3",
   "version": "3.10.2"
  }
 },
 "nbformat": 4,
 "nbformat_minor": 5
}
