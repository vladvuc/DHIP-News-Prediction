{
 "cells": [
  {
   "cell_type": "code",
   "execution_count": null,
   "id": "ad90a06e",
   "metadata": {},
   "outputs": [],
   "source": [
    "import spacy\n",
    "import pandas as pd\n",
    "import numpy as np\n",
    "import csv\n",
    "import string\n",
    "import random\n",
    "nlp = spacy.load(\"en_core_web_trf\")"
   ]
  },
  {
   "cell_type": "code",
   "execution_count": null,
   "id": "f913ba02",
   "metadata": {},
   "outputs": [],
   "source": [
    "dataset = pd.read_csv('../data/upworthy-confirmatory.csv', low_memory=False, usecols=[*range(3,4),*range(5,6),*range(9,11)])"
   ]
  },
  {
   "cell_type": "code",
   "execution_count": null,
   "id": "666e3e2b",
   "metadata": {},
   "outputs": [],
   "source": [
    "dataset['impressions'] = dataset['impressions'].astype('int')\n",
    "dataset['clicks'] = dataset['clicks'].astype('int')"
   ]
  },
  {
   "cell_type": "markdown",
   "id": "4ffb7e22",
   "metadata": {},
   "source": [
    "## Creation of NER csv"
   ]
  },
  {
   "cell_type": "code",
   "execution_count": null,
   "id": "f78b5d2a",
   "metadata": {},
   "outputs": [],
   "source": [
    "nerdata = pd.DataFrame(columns=[\"test_id\",\"Entity\",\"Label\",\"headline\",\"impressions\",\"clicks\",\"contains_entity\"])"
   ]
  },
  {
   "cell_type": "code",
   "execution_count": null,
   "id": "e65a0d50",
   "metadata": {},
   "outputs": [],
   "source": [
    "for i in range(0,len(dataset)):\n",
    "    test = entityexistence.iloc[i][\"clickability_test_id\"]\n",
    "    headline = entityexistence.iloc[i][\"headline\"]\n",
    "    impressions = entityexistence.iloc[i][\"impressions\"]\n",
    "    clicks = entityexistence.iloc[i][\"clicks\"]\n",
    "    doc = nlp(headline)\n",
    "    for ent in doc.ents:\n",
    "        newRow = [test, ent.text, ent.label_, headline,impressions,clicks]\n",
    "        nerdata.loc[len(nerdata)] = newRow"
   ]
  },
  {
   "cell_type": "code",
   "execution_count": null,
   "id": "ffd7d212",
   "metadata": {},
   "outputs": [],
   "source": [
    "nerdata.to_csv('indexedwtext_ner.csv', index= False)"
   ]
  },
  {
   "cell_type": "markdown",
   "id": "9b8d10e7",
   "metadata": {},
   "source": [
    "## Creation of contains entity csv"
   ]
  },
  {
   "cell_type": "code",
   "execution_count": null,
   "id": "f806dea8",
   "metadata": {},
   "outputs": [],
   "source": [
    "copy_original = dataset.copy()"
   ]
  },
  {
   "cell_type": "code",
   "execution_count": null,
   "id": "02a27fe1",
   "metadata": {},
   "outputs": [],
   "source": [
    "copy_original[\"contains_entity\"] = 0"
   ]
  },
  {
   "cell_type": "code",
   "execution_count": null,
   "id": "7b6a9526",
   "metadata": {},
   "outputs": [],
   "source": [
    "entity = pd.DataFrame(columns=[\"test_id\",\"headline\",\"impressions\",\"clicks\",\"contains_entity\"])"
   ]
  },
  {
   "cell_type": "code",
   "execution_count": null,
   "id": "461123bb",
   "metadata": {},
   "outputs": [],
   "source": [
    "for i in range(0,len(dataset)):\n",
    "    test = dataset.iloc[i][\"clickability_test_id\"]\n",
    "    headline = dataset.iloc[i][\"headline\"]\n",
    "    impressions = dataset.iloc[i][\"impressions\"]\n",
    "    clicks = dataset.iloc[i][\"clicks\"]\n",
    "    doc = nlp(headline)\n",
    "    if len(doc.ents) != 0:\n",
    "        newRow = [test,headline,impressions,clicks,1]\n",
    "    else:\n",
    "        newRow = [test,headline,impressions,clicks,0]\n",
    "    entity.loc[len(entity)] = newRow"
   ]
  },
  {
   "cell_type": "code",
   "execution_count": null,
   "id": "af21d525",
   "metadata": {},
   "outputs": [],
   "source": [
    "entity.to_csv('contains_entities.csv', index= False)"
   ]
  },
  {
   "cell_type": "markdown",
   "id": "19e648c5",
   "metadata": {},
   "source": [
    "## Creation of punctuation csv"
   ]
  },
  {
   "cell_type": "code",
   "execution_count": null,
   "id": "49c53720",
   "metadata": {},
   "outputs": [],
   "source": [
    "count = lambda l1, l2: sum([1 for x in l1 if x in l2])\n",
    "accumulate = lambda l1,l2: [x for x in l1 if x in l2]"
   ]
  },
  {
   "cell_type": "code",
   "execution_count": null,
   "id": "3e20e8d6",
   "metadata": {},
   "outputs": [],
   "source": [
    "punctset = pd.read_csv(\"../data/upworthy-confirmatory.csv\", low_memory = False, usecols=[*range(3,4),*range(5,6),*range(9,11)])"
   ]
  },
  {
   "cell_type": "code",
   "execution_count": null,
   "id": "e03cee6c",
   "metadata": {},
   "outputs": [],
   "source": [
    "punctset[\"count_punct\"] = df.headline.apply(lambda s: count(s, string.punctuation))\n",
    "punctset['punct_list'] = df.headline.apply(lambda s: accumulate(s, string.punctuation))"
   ]
  },
  {
   "cell_type": "code",
   "execution_count": null,
   "id": "e5939c66",
   "metadata": {},
   "outputs": [],
   "source": [
    "punctset.to_csv(\"punct_text_ner.csv\", sep = ';')"
   ]
  },
  {
   "cell_type": "markdown",
   "id": "376d2cfd",
   "metadata": {},
   "source": [
    "## Creation of length csv"
   ]
  },
  {
   "cell_type": "code",
   "execution_count": null,
   "id": "3beecab2",
   "metadata": {},
   "outputs": [],
   "source": [
    "lengthcopy = dataset.copy()"
   ]
  },
  {
   "cell_type": "code",
   "execution_count": null,
   "id": "25ffa863",
   "metadata": {},
   "outputs": [],
   "source": [
    "lengthdata = pd.DataFrame(columns=[\"Test_id\",\"Headline\",\"Impressions\",\"Clicks\",\"Length\"])"
   ]
  },
  {
   "cell_type": "code",
   "execution_count": null,
   "id": "0d73a36e",
   "metadata": {},
   "outputs": [],
   "source": [
    "for i in range(0,len(lengthcopy)):\n",
    "    test = entityset.iloc[i][\"clickability_test_id\"]\n",
    "    headline = entityset.iloc[i][\"headline\"]\n",
    "    impressions = entityset.iloc[i][\"impressions\"]\n",
    "    clicks = entityset.iloc[i][\"clicks\"]\n",
    "    length = len(entityset.iloc[i][\"headline\"])\n",
    "    \n",
    "    newRow = [test,headline,impressions,clicks,length]\n",
    "    finalData.loc[len(finalData)] = newRow"
   ]
  },
  {
   "cell_type": "code",
   "execution_count": null,
   "id": "9a3c5ed4",
   "metadata": {},
   "outputs": [],
   "source": [
    "lengthdata.to_csv(\"lengthcoded.csv\", encoding = \"utf-8-sig\", index = False)"
   ]
  },
  {
   "cell_type": "markdown",
   "id": "27ec276a",
   "metadata": {},
   "source": [
    "## Creation of Label regression csv"
   ]
  },
  {
   "cell_type": "code",
   "execution_count": null,
   "id": "74b23c9e",
   "metadata": {},
   "outputs": [],
   "source": [
    "labelcopy = dataset.copy()"
   ]
  },
  {
   "cell_type": "code",
   "execution_count": null,
   "id": "762c86a4",
   "metadata": {},
   "outputs": [],
   "source": [
    "labelframe = pd.DataFrame(columns=[\"Test_id\",\"Entity\",\"Label\",\"Headline\",\"Impressions\",\"Clicks\"])"
   ]
  },
  {
   "cell_type": "code",
   "execution_count": null,
   "id": "2393fe42",
   "metadata": {},
   "outputs": [],
   "source": [
    "for i in range(0,len(labelcopy)):\n",
    "    test = entityexistence.iloc[i][\"clickability_test_id\"]\n",
    "    headline = entityexistence.iloc[i][\"headline\"]\n",
    "    impressions = entityexistence.iloc[i][\"impressions\"]\n",
    "    clicks = entityexistence.iloc[i][\"clicks\"]\n",
    "    doc = nlp(headline)\n",
    "    for ent in doc.ents:\n",
    "        newRow = [test, ent.text, ent.label_, headline,impressions,clicks]\n",
    "        labelframe.loc[len(labelframe)] = newRow"
   ]
  },
  {
   "cell_type": "code",
   "execution_count": null,
   "id": "192216a2",
   "metadata": {},
   "outputs": [],
   "source": [
    "labelframe[\"ORG\"] = 0\n",
    "labelframe[\"DATE\"] = 0\n",
    "labelframe[\"PERSON\"] = 0\n",
    "labelframe[\"GPE\"] = 0\n",
    "labelframe[\"LOC\"] = 0\n",
    "labelframe[\"MONEY\"] = 0\n",
    "labelframe[\"TIME\"] = 0\n",
    "labelframe[\"PRODUCT\"] = 0\n",
    "labelframe[\"ORDINAL\"] = 0\n",
    "labelframe[\"QUANTITY\"] = 0\n",
    "labelframe[\"EVENT\"] = 0\n",
    "labelframe[\"FAC\"] = 0\n",
    "labelframe[\"LANGUAGE\"] = 0\n",
    "labelframe[\"LAW\"] = 0\n",
    "labelframe[\"NORP\"] = 0\n",
    "labelframe[\"PERCENT\"] = 0\n",
    "labelframe[\"WORK_OF_ART\"] = 0\n",
    "labelframe[\"CARDINAL\"] = 0"
   ]
  },
  {
   "cell_type": "code",
   "execution_count": null,
   "id": "a60fe756",
   "metadata": {},
   "outputs": [],
   "source": [
    "for i in range(0,len(labelframe)):\n",
    "    label = labelframe.iloc[i][\"Label\"]\n",
    "    labelframe.at[i,label] = 1"
   ]
  },
  {
   "cell_type": "code",
   "execution_count": null,
   "id": "b6fca6a3",
   "metadata": {},
   "outputs": [],
   "source": [
    "labelframe = labelframe[labelframe[\"Label\"].str.contains(\"CARDINAL\")==False]\n",
    "labelframe = labelframe.drop(\"CARDINAL\",axis=1)"
   ]
  },
  {
   "cell_type": "code",
   "execution_count": null,
   "id": "b9520c3c",
   "metadata": {},
   "outputs": [],
   "source": [
    "labelframe.to_csv(\"typesner.csv\", encoding = \"utf-8-sig\", index = False)"
   ]
  },
  {
   "cell_type": "markdown",
   "id": "3d74ec53",
   "metadata": {},
   "source": [
    "## Creation of grouped entities csv"
   ]
  },
  {
   "cell_type": "code",
   "execution_count": null,
   "id": "3e9abc89",
   "metadata": {},
   "outputs": [],
   "source": [
    "grouping = nerdata.copy()"
   ]
  },
  {
   "cell_type": "code",
   "execution_count": null,
   "id": "9da481cf",
   "metadata": {},
   "outputs": [],
   "source": [
    "grouping = grouping.groupby([\"Entity\",\"Label\"], as_index = False).mean()"
   ]
  },
  {
   "cell_type": "code",
   "execution_count": null,
   "id": "47897709",
   "metadata": {},
   "outputs": [],
   "source": [
    "grouping.to_csv(\"GroupedwTIME.csv\", encoding = \"utf-8-sig\", index = False)"
   ]
  }
 ],
 "metadata": {
  "kernelspec": {
   "display_name": "Python 3 (ipykernel)",
   "language": "python",
   "name": "python3"
  },
  "language_info": {
   "codemirror_mode": {
    "name": "ipython",
    "version": 3
   },
   "file_extension": ".py",
   "mimetype": "text/x-python",
   "name": "python",
   "nbconvert_exporter": "python",
   "pygments_lexer": "ipython3",
   "version": "3.9.15"
  }
 },
 "nbformat": 4,
 "nbformat_minor": 5
}
