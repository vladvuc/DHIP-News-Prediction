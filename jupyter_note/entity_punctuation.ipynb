{
 "cells": [
  {
   "cell_type": "code",
   "execution_count": 1,
   "id": "4d1097fa",
   "metadata": {},
   "outputs": [],
   "source": [
    "import pandas as pd\n",
    "import string"
   ]
  },
  {
   "cell_type": "code",
   "execution_count": 6,
   "id": "597afcfd",
   "metadata": {},
   "outputs": [],
   "source": [
    "df = pd.read_csv(\"../data/upworthy-confirmatory.csv\", sep = ',', low_memory = False, usecols=[*range(5,6),*range(9,11)])"
   ]
  },
  {
   "cell_type": "code",
   "execution_count": 7,
   "id": "c7076ec2",
   "metadata": {},
   "outputs": [
    {
     "data": {
      "text/html": [
       "<div>\n",
       "<style scoped>\n",
       "    .dataframe tbody tr th:only-of-type {\n",
       "        vertical-align: middle;\n",
       "    }\n",
       "\n",
       "    .dataframe tbody tr th {\n",
       "        vertical-align: top;\n",
       "    }\n",
       "\n",
       "    .dataframe thead th {\n",
       "        text-align: right;\n",
       "    }\n",
       "</style>\n",
       "<table border=\"1\" class=\"dataframe\">\n",
       "  <thead>\n",
       "    <tr style=\"text-align: right;\">\n",
       "      <th></th>\n",
       "      <th>headline</th>\n",
       "      <th>impressions</th>\n",
       "      <th>clicks</th>\n",
       "    </tr>\n",
       "  </thead>\n",
       "  <tbody>\n",
       "    <tr>\n",
       "      <th>0</th>\n",
       "      <td>Let’s See … Hire Cops, Pay Teachers, Buy Books...</td>\n",
       "      <td>3118</td>\n",
       "      <td>8</td>\n",
       "    </tr>\n",
       "    <tr>\n",
       "      <th>1</th>\n",
       "      <td>People Sent This Lesbian Questions And Her Rai...</td>\n",
       "      <td>4587</td>\n",
       "      <td>130</td>\n",
       "    </tr>\n",
       "    <tr>\n",
       "      <th>2</th>\n",
       "      <td>$3 Million Is What It Takes For A State To Leg...</td>\n",
       "      <td>3017</td>\n",
       "      <td>19</td>\n",
       "    </tr>\n",
       "    <tr>\n",
       "      <th>3</th>\n",
       "      <td>The Fact That Sometimes Innocent People Are Ex...</td>\n",
       "      <td>2974</td>\n",
       "      <td>26</td>\n",
       "    </tr>\n",
       "    <tr>\n",
       "      <th>4</th>\n",
       "      <td>Reason #351 To End The Death Penalty: It Costs...</td>\n",
       "      <td>3050</td>\n",
       "      <td>10</td>\n",
       "    </tr>\n",
       "  </tbody>\n",
       "</table>\n",
       "</div>"
      ],
      "text/plain": [
       "                                            headline  impressions  clicks\n",
       "0  Let’s See … Hire Cops, Pay Teachers, Buy Books...         3118       8\n",
       "1  People Sent This Lesbian Questions And Her Rai...         4587     130\n",
       "2  $3 Million Is What It Takes For A State To Leg...         3017      19\n",
       "3  The Fact That Sometimes Innocent People Are Ex...         2974      26\n",
       "4  Reason #351 To End The Death Penalty: It Costs...         3050      10"
      ]
     },
     "execution_count": 7,
     "metadata": {},
     "output_type": "execute_result"
    }
   ],
   "source": [
    "df.head()"
   ]
  },
  {
   "cell_type": "code",
   "execution_count": 8,
   "id": "699066cd",
   "metadata": {},
   "outputs": [],
   "source": [
    "count = lambda l1, l2: sum([1 for x in l1 if x in l2])\n",
    "accumulate = lambda l1,l2: [x for x in l1 if x in l2]"
   ]
  },
  {
   "cell_type": "code",
   "execution_count": 10,
   "id": "33174439",
   "metadata": {},
   "outputs": [],
   "source": [
    "df[\"count_punct\"] = df.headline.apply(lambda s: count(s, string.punctuation))"
   ]
  },
  {
   "cell_type": "code",
   "execution_count": 11,
   "id": "26fc2711",
   "metadata": {},
   "outputs": [],
   "source": [
    "df['punct_list'] = df.headline.apply(lambda s: accumulate(s, string.punctuation))"
   ]
  },
  {
   "cell_type": "code",
   "execution_count": 12,
   "id": "b377644a",
   "metadata": {},
   "outputs": [
    {
     "data": {
      "text/html": [
       "<div>\n",
       "<style scoped>\n",
       "    .dataframe tbody tr th:only-of-type {\n",
       "        vertical-align: middle;\n",
       "    }\n",
       "\n",
       "    .dataframe tbody tr th {\n",
       "        vertical-align: top;\n",
       "    }\n",
       "\n",
       "    .dataframe thead th {\n",
       "        text-align: right;\n",
       "    }\n",
       "</style>\n",
       "<table border=\"1\" class=\"dataframe\">\n",
       "  <thead>\n",
       "    <tr style=\"text-align: right;\">\n",
       "      <th></th>\n",
       "      <th>headline</th>\n",
       "      <th>impressions</th>\n",
       "      <th>clicks</th>\n",
       "      <th>count_punct</th>\n",
       "      <th>punct_list</th>\n",
       "    </tr>\n",
       "  </thead>\n",
       "  <tbody>\n",
       "    <tr>\n",
       "      <th>0</th>\n",
       "      <td>Let’s See … Hire Cops, Pay Teachers, Buy Books...</td>\n",
       "      <td>3118</td>\n",
       "      <td>8</td>\n",
       "      <td>6</td>\n",
       "      <td>[,, ,, ., ., ,, ?]</td>\n",
       "    </tr>\n",
       "    <tr>\n",
       "      <th>1</th>\n",
       "      <td>People Sent This Lesbian Questions And Her Rai...</td>\n",
       "      <td>4587</td>\n",
       "      <td>130</td>\n",
       "      <td>0</td>\n",
       "      <td>[]</td>\n",
       "    </tr>\n",
       "    <tr>\n",
       "      <th>2</th>\n",
       "      <td>$3 Million Is What It Takes For A State To Leg...</td>\n",
       "      <td>3017</td>\n",
       "      <td>19</td>\n",
       "      <td>1</td>\n",
       "      <td>[$]</td>\n",
       "    </tr>\n",
       "    <tr>\n",
       "      <th>3</th>\n",
       "      <td>The Fact That Sometimes Innocent People Are Ex...</td>\n",
       "      <td>2974</td>\n",
       "      <td>26</td>\n",
       "      <td>2</td>\n",
       "      <td>[., ?]</td>\n",
       "    </tr>\n",
       "    <tr>\n",
       "      <th>4</th>\n",
       "      <td>Reason #351 To End The Death Penalty: It Costs...</td>\n",
       "      <td>3050</td>\n",
       "      <td>10</td>\n",
       "      <td>4</td>\n",
       "      <td>[#, :, $, .]</td>\n",
       "    </tr>\n",
       "  </tbody>\n",
       "</table>\n",
       "</div>"
      ],
      "text/plain": [
       "                                            headline  impressions  clicks  \\\n",
       "0  Let’s See … Hire Cops, Pay Teachers, Buy Books...         3118       8   \n",
       "1  People Sent This Lesbian Questions And Her Rai...         4587     130   \n",
       "2  $3 Million Is What It Takes For A State To Leg...         3017      19   \n",
       "3  The Fact That Sometimes Innocent People Are Ex...         2974      26   \n",
       "4  Reason #351 To End The Death Penalty: It Costs...         3050      10   \n",
       "\n",
       "   count_punct          punct_list  \n",
       "0            6  [,, ,, ., ., ,, ?]  \n",
       "1            0                  []  \n",
       "2            1                 [$]  \n",
       "3            2              [., ?]  \n",
       "4            4        [#, :, $, .]  "
      ]
     },
     "execution_count": 12,
     "metadata": {},
     "output_type": "execute_result"
    }
   ],
   "source": [
    "df.head()"
   ]
  },
  {
   "cell_type": "code",
   "execution_count": 13,
   "id": "688c2c1f",
   "metadata": {},
   "outputs": [],
   "source": [
    "df.to_csv(\"../data/punct_text_ner.csv\", sep = ';')"
   ]
  }
 ],
 "metadata": {
  "kernelspec": {
   "display_name": "Python 3 (ipykernel)",
   "language": "python",
   "name": "python3"
  },
  "language_info": {
   "codemirror_mode": {
    "name": "ipython",
    "version": 3
   },
   "file_extension": ".py",
   "mimetype": "text/x-python",
   "name": "python",
   "nbconvert_exporter": "python",
   "pygments_lexer": "ipython3",
   "version": "3.10.2"
  }
 },
 "nbformat": 4,
 "nbformat_minor": 5
}
