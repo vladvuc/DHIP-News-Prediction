{
 "cells": [
  {
   "cell_type": "code",
   "execution_count": 16,
   "id": "4d1097fa",
   "metadata": {},
   "outputs": [],
   "source": [
    "import pandas as pd\n",
    "import string"
   ]
  },
  {
   "cell_type": "code",
   "execution_count": 26,
   "id": "597afcfd",
   "metadata": {},
   "outputs": [],
   "source": [
    "df = pd.read_csv(\"../data/indexedwtext_ner.csv\", sep = ',')"
   ]
  },
  {
   "cell_type": "code",
   "execution_count": 27,
   "id": "c7076ec2",
   "metadata": {},
   "outputs": [
    {
     "data": {
      "text/html": [
       "<div>\n",
       "<style scoped>\n",
       "    .dataframe tbody tr th:only-of-type {\n",
       "        vertical-align: middle;\n",
       "    }\n",
       "\n",
       "    .dataframe tbody tr th {\n",
       "        vertical-align: top;\n",
       "    }\n",
       "\n",
       "    .dataframe thead th {\n",
       "        text-align: right;\n",
       "    }\n",
       "</style>\n",
       "<table border=\"1\" class=\"dataframe\">\n",
       "  <thead>\n",
       "    <tr style=\"text-align: right;\">\n",
       "      <th></th>\n",
       "      <th>Entity</th>\n",
       "      <th>Label</th>\n",
       "      <th>Impressions</th>\n",
       "      <th>Clicks</th>\n",
       "      <th>Headline</th>\n",
       "      <th>OriginalRow</th>\n",
       "    </tr>\n",
       "  </thead>\n",
       "  <tbody>\n",
       "    <tr>\n",
       "      <th>0</th>\n",
       "      <td>Downton Abbey</td>\n",
       "      <td>WORK_OF_ART</td>\n",
       "      <td>3454</td>\n",
       "      <td>56</td>\n",
       "      <td>\\nLike Downton Abbey? Well, There’s Another Dr...</td>\n",
       "      <td>0</td>\n",
       "    </tr>\n",
       "    <tr>\n",
       "      <th>1</th>\n",
       "      <td>PBS</td>\n",
       "      <td>ORG</td>\n",
       "      <td>3454</td>\n",
       "      <td>56</td>\n",
       "      <td>\\nLike Downton Abbey? Well, There’s Another Dr...</td>\n",
       "      <td>0</td>\n",
       "    </tr>\n",
       "    <tr>\n",
       "      <th>2</th>\n",
       "      <td>This Land Was Made</td>\n",
       "      <td>WORK_OF_ART</td>\n",
       "      <td>2712</td>\n",
       "      <td>35</td>\n",
       "      <td>'This Land Was Made For You And Me' — Or Was It?</td>\n",
       "      <td>4</td>\n",
       "    </tr>\n",
       "    <tr>\n",
       "      <th>3</th>\n",
       "      <td>George Zimmerman</td>\n",
       "      <td>PERSON</td>\n",
       "      <td>2950</td>\n",
       "      <td>275</td>\n",
       "      <td>A Perspective On George Zimmerman That Every ...</td>\n",
       "      <td>5</td>\n",
       "    </tr>\n",
       "    <tr>\n",
       "      <th>4</th>\n",
       "      <td>McGruff</td>\n",
       "      <td>PERSON</td>\n",
       "      <td>2739</td>\n",
       "      <td>9</td>\n",
       "      <td>A Strategy To Combat Crime That McGruff Wishe...</td>\n",
       "      <td>6</td>\n",
       "    </tr>\n",
       "  </tbody>\n",
       "</table>\n",
       "</div>"
      ],
      "text/plain": [
       "               Entity        Label  Impressions  Clicks  \\\n",
       "0       Downton Abbey  WORK_OF_ART         3454      56   \n",
       "1                 PBS          ORG         3454      56   \n",
       "2  This Land Was Made  WORK_OF_ART         2712      35   \n",
       "3    George Zimmerman       PERSON         2950     275   \n",
       "4             McGruff       PERSON         2739       9   \n",
       "\n",
       "                                            Headline  OriginalRow  \n",
       "0  \\nLike Downton Abbey? Well, There’s Another Dr...            0  \n",
       "1  \\nLike Downton Abbey? Well, There’s Another Dr...            0  \n",
       "2   'This Land Was Made For You And Me' — Or Was It?            4  \n",
       "3   A Perspective On George Zimmerman That Every ...            5  \n",
       "4   A Strategy To Combat Crime That McGruff Wishe...            6  "
      ]
     },
     "execution_count": 27,
     "metadata": {},
     "output_type": "execute_result"
    }
   ],
   "source": [
    "df.head()"
   ]
  },
  {
   "cell_type": "code",
   "execution_count": 28,
   "id": "699066cd",
   "metadata": {},
   "outputs": [],
   "source": [
    "count = lambda l1, l2: sum([1 for x in l1 if x in l2])\n",
    "accumulate = lambda l1,l2: [x for x in l1 if x in l2]"
   ]
  },
  {
   "cell_type": "code",
   "execution_count": 31,
   "id": "33174439",
   "metadata": {},
   "outputs": [],
   "source": [
    "df[\"count_punct\"] = df.Headline.apply(lambda s: count(s, string.punctuation))"
   ]
  },
  {
   "cell_type": "code",
   "execution_count": 32,
   "id": "26fc2711",
   "metadata": {},
   "outputs": [],
   "source": [
    "df['punct_list'] = df.Headline.apply(lambda s: accumulate(s, string.punctuation))"
   ]
  },
  {
   "cell_type": "code",
   "execution_count": 33,
   "id": "b377644a",
   "metadata": {},
   "outputs": [
    {
     "data": {
      "text/html": [
       "<div>\n",
       "<style scoped>\n",
       "    .dataframe tbody tr th:only-of-type {\n",
       "        vertical-align: middle;\n",
       "    }\n",
       "\n",
       "    .dataframe tbody tr th {\n",
       "        vertical-align: top;\n",
       "    }\n",
       "\n",
       "    .dataframe thead th {\n",
       "        text-align: right;\n",
       "    }\n",
       "</style>\n",
       "<table border=\"1\" class=\"dataframe\">\n",
       "  <thead>\n",
       "    <tr style=\"text-align: right;\">\n",
       "      <th></th>\n",
       "      <th>Entity</th>\n",
       "      <th>Label</th>\n",
       "      <th>Impressions</th>\n",
       "      <th>Clicks</th>\n",
       "      <th>Headline</th>\n",
       "      <th>OriginalRow</th>\n",
       "      <th>count_punct</th>\n",
       "      <th>punct_list</th>\n",
       "    </tr>\n",
       "  </thead>\n",
       "  <tbody>\n",
       "    <tr>\n",
       "      <th>0</th>\n",
       "      <td>Downton Abbey</td>\n",
       "      <td>WORK_OF_ART</td>\n",
       "      <td>3454</td>\n",
       "      <td>56</td>\n",
       "      <td>\\nLike Downton Abbey? Well, There’s Another Dr...</td>\n",
       "      <td>0</td>\n",
       "      <td>2</td>\n",
       "      <td>[?, ,]</td>\n",
       "    </tr>\n",
       "    <tr>\n",
       "      <th>1</th>\n",
       "      <td>PBS</td>\n",
       "      <td>ORG</td>\n",
       "      <td>3454</td>\n",
       "      <td>56</td>\n",
       "      <td>\\nLike Downton Abbey? Well, There’s Another Dr...</td>\n",
       "      <td>0</td>\n",
       "      <td>2</td>\n",
       "      <td>[?, ,]</td>\n",
       "    </tr>\n",
       "    <tr>\n",
       "      <th>2</th>\n",
       "      <td>This Land Was Made</td>\n",
       "      <td>WORK_OF_ART</td>\n",
       "      <td>2712</td>\n",
       "      <td>35</td>\n",
       "      <td>'This Land Was Made For You And Me' — Or Was It?</td>\n",
       "      <td>4</td>\n",
       "      <td>3</td>\n",
       "      <td>[', ', ?]</td>\n",
       "    </tr>\n",
       "    <tr>\n",
       "      <th>3</th>\n",
       "      <td>George Zimmerman</td>\n",
       "      <td>PERSON</td>\n",
       "      <td>2950</td>\n",
       "      <td>275</td>\n",
       "      <td>A Perspective On George Zimmerman That Every ...</td>\n",
       "      <td>5</td>\n",
       "      <td>0</td>\n",
       "      <td>[]</td>\n",
       "    </tr>\n",
       "    <tr>\n",
       "      <th>4</th>\n",
       "      <td>McGruff</td>\n",
       "      <td>PERSON</td>\n",
       "      <td>2739</td>\n",
       "      <td>9</td>\n",
       "      <td>A Strategy To Combat Crime That McGruff Wishe...</td>\n",
       "      <td>6</td>\n",
       "      <td>0</td>\n",
       "      <td>[]</td>\n",
       "    </tr>\n",
       "  </tbody>\n",
       "</table>\n",
       "</div>"
      ],
      "text/plain": [
       "               Entity        Label  Impressions  Clicks  \\\n",
       "0       Downton Abbey  WORK_OF_ART         3454      56   \n",
       "1                 PBS          ORG         3454      56   \n",
       "2  This Land Was Made  WORK_OF_ART         2712      35   \n",
       "3    George Zimmerman       PERSON         2950     275   \n",
       "4             McGruff       PERSON         2739       9   \n",
       "\n",
       "                                            Headline  OriginalRow  \\\n",
       "0  \\nLike Downton Abbey? Well, There’s Another Dr...            0   \n",
       "1  \\nLike Downton Abbey? Well, There’s Another Dr...            0   \n",
       "2   'This Land Was Made For You And Me' — Or Was It?            4   \n",
       "3   A Perspective On George Zimmerman That Every ...            5   \n",
       "4   A Strategy To Combat Crime That McGruff Wishe...            6   \n",
       "\n",
       "   count_punct punct_list  \n",
       "0            2     [?, ,]  \n",
       "1            2     [?, ,]  \n",
       "2            3  [', ', ?]  \n",
       "3            0         []  \n",
       "4            0         []  "
      ]
     },
     "execution_count": 33,
     "metadata": {},
     "output_type": "execute_result"
    }
   ],
   "source": [
    "df.head()"
   ]
  },
  {
   "cell_type": "code",
   "execution_count": 34,
   "id": "688c2c1f",
   "metadata": {},
   "outputs": [],
   "source": [
    "df.to_csv(\"../data/punct_text_ner.csv\", sep = ';')"
   ]
  },
  {
   "cell_type": "code",
   "execution_count": null,
   "id": "1fdb3509",
   "metadata": {},
   "outputs": [],
   "source": []
  }
 ],
 "metadata": {
  "kernelspec": {
   "display_name": "Python 3 (ipykernel)",
   "language": "python",
   "name": "python3"
  },
  "language_info": {
   "codemirror_mode": {
    "name": "ipython",
    "version": 3
   },
   "file_extension": ".py",
   "mimetype": "text/x-python",
   "name": "python",
   "nbconvert_exporter": "python",
   "pygments_lexer": "ipython3",
   "version": "3.10.2"
  }
 },
 "nbformat": 4,
 "nbformat_minor": 5
}
